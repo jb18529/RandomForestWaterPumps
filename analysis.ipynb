{
 "cells": [
  {
   "cell_type": "markdown",
   "metadata": {
    "collapsed": false
   },
   "source": [
    "# Assessment criteria\n",
    "\n",
    "Is the code well commented and easy to follow?\n",
    "Is it consistent (i.e. consistent names for\n",
    "variables, functions, etc.)? does it use informative\n",
    "names for variables and functions? Does it give\n",
    "the results as stated in the paper?\n",
    "\n",
    "# Todo:\n",
    "Outliers for string columns and population\n",
    "Imputation - for population and amount_tsh\n",
    "Normalisation/standardisation\n",
    "Fancy graphs"
   ]
  },
  {
   "cell_type": "code",
   "execution_count": 1,
   "metadata": {
    "collapsed": true
   },
   "outputs": [],
   "source": [
    "# Preamble/imports\n",
    "import pandas as pd # for df manipulation\n",
    "import numpy as np # for additional data analysis functionality\n",
    "import missingno as msno # for missing number analysis\n",
    "import seaborn as sns # for data visualisation\n",
    "import matplotlib.pyplot as plt # for data visualisation\n",
    "import datetime as dt # for manipulation of the date column\n",
    "from sklearn import linear_model # For regression analysis\n",
    "import copy # for deep copying the dataset class, so we can have both joint and separate analysis\n",
    "from sklearn.decomposition import PCA # For Principal Component Analysis\n",
    "\n",
    "# JB's imports for the geographical graph\n",
    "import geopandas as gpd\n",
    "import descartes\n",
    "from shapely.geometry import Point, Polygon"
   ]
  },
  {
   "cell_type": "code",
   "execution_count": 2,
   "metadata": {},
   "outputs": [],
   "source": [
    "training_dep_var = pd.read_csv('Training set labels.csv') # , index_col=0\n",
    "training_indep_vars = pd.read_csv('Training set values.csv')\n",
    "training_df = training_dep_var.merge(training_indep_vars, on='id')"
   ]
  },
  {
   "cell_type": "code",
   "execution_count": 3,
   "metadata": {
    "collapsed": false
   },
   "outputs": [],
   "source": [
    "test_df = pd.read_csv('Test set values.csv') # , index_col=0"
   ]
  },
  {
   "cell_type": "code",
   "execution_count": 4,
   "metadata": {
    "collapsed": false
   },
   "outputs": [
    {
     "name": "stderr",
     "output_type": "stream",
     "text": [
      "/tmp/ipykernel_62906/2464380950.py:3: FutureWarning: In future versions `DataFrame.to_latex` is expected to utilise the base implementation of `Styler.to_latex` for formatting and rendering. The arguments signature may therefore change. It is recommended instead to use `DataFrame.style.to_latex` which also contains additional functionality.\n",
      "  tf.write(training_df.loc[:, training_df.columns != 'id'].describe().round(1).to_latex(float_format=\"{:.1f}\".format))\n"
     ]
    },
    {
     "data": {
      "image/png": "[encoded data removed]",
      "text/plain": [
       "<Figure size 640x480 with 1 Axes>"
      ]
     },
     "metadata": {},
     "output_type": "display_data"
    }
   ],
   "source": [
    "# Export summary stats to tex\n",
    "with open('Output/summary_stats.tex','w') as tf:\n",
    "    tf.write(training_df.loc[:, training_df.columns != 'id'].describe().round(1).to_latex(float_format=\"{:.1f}\".format))\n",
    "\n",
    "# Export dep_var bar graph\n",
    "sns.countplot(data=training_df, x=\"status_group\").set_title('Distribution of the dependent variable (pump status)')\n",
    "plt.savefig('Output/dep_var.png', dpi=1200)"
   ]
  },
  {
   "cell_type": "code",
   "execution_count": 7,
   "metadata": {},
   "outputs": [],
   "source": [
    "class Dataset:\n",
    "    def __init__(self, data, training_data=None):\n",
    "        self.df = data.copy()\n",
    "        self.ids = self.df['id']\n",
    "        self.nans_col = 'NaNs'\n",
    "        self.dep_var = 'status_group'\n",
    "        self.cat_cols = ['funder', 'installer', 'basin', 'region', 'permit', 'extraction_type_class', 'management_group', 'payment_type', 'water_quality', 'quantity', 'source']\n",
    "        self.training_data = training_data\n",
    "\n",
    "    def convert_datetime(self):\n",
    "        # Initial cleaning\n",
    "        self.df['date_recorded'] = pd.to_datetime(self.df['date_recorded']) # Convert dates to datetime\n",
    "\n",
    "    def convert_missing_values(self, training_data=True): # Braganza and Pointon\n",
    "        # Missing values\n",
    "        self.df.loc[self.df['longitude']==0.0, 'longitude'] = np.nan # incorrect values\n",
    "        self.df.loc[self.df['latitude']==-2.000000e-08, 'latitude'] = np.nan # incorrect values\n",
    "        self.df.loc[self.df['gps_height']==0, 'gps_height'] = np.nan # very likely to be incorrect\n",
    "        self.df.loc[self.df['construction_year']==0, 'construction_year'] = np.nan # incorrect values\n",
    "        self.df.loc[(self.df['population']==0), 'population'] = np.nan # very likely to be incorrect # & (df['status_group']!='non functional')\n",
    "        self.df.loc[(self.df['population']>50000), 'population'] = np.nan # very likely to be incorrect\n",
    "        # self.df[self.df['installer'].str.contains(\"gov\")].value_counts('installer')\n",
    "        self.df.loc[self.df['installer']=='0', 'installer'] = np.nan # very likely to be incorrect\n",
    "        self.df.loc[self.df['installer']=='-', 'installer'] = np.nan # functional change\n",
    "        self.df.loc[self.df['funder']=='0', 'funder'] = 'unknown' # very likely to be incorrect\n",
    "        self.df['gps_height'] = abs(self.df['gps_height']) # incorrect as per https://www.cia.gov/the-world-factbook/countries/tanzania/\n",
    "        self.df.loc[self.df['amount_tsh']>400, 'amount_tsh'] = np.nan # very likely to be incorrect\n",
    "        self.df.loc[self.df['date_recorded']<pd.Timestamp(2010, 1, 1), 'date_recorded'] = self.df.loc[self.df['date_recorded']<pd.Timestamp(2010, 1, 1), 'date_recorded'] + pd.offsets.DateOffset(years=10) # any dates before 2010 are wrong and probably 10 years out due to a typo...\n",
    "\n",
    "        if training_data:\n",
    "            self.df.loc[(self.df['amount_tsh']==0) & (self.df['status_group']=='functional'), 'amount_tsh'] = np.nan # very likely to be incorrect\n",
    "            self.df.loc[(self.df['amount_tsh']==0) & (self.df['status_group']=='non functional'), 'amount_tsh'] = np.nan # very likely to be incorrect\n",
    "\n",
    "    def convert_missing_to_unkown(self):\n",
    "        # Converting NaNs to 'unknown'\n",
    "        # Bool cols\n",
    "        self.df['permit'] = self.df['permit'].astype(str)\n",
    "        self.df.loc[(self.df['permit']!='True') & (self.df['permit']!='False'), 'permit'] = 'unknown' # replace NaN to keep it in the dataset\n",
    "        self.df['public_meeting'] = self.df['public_meeting'].astype(str)\n",
    "        self.df.loc[(self.df['public_meeting']!='True') & (self.df['public_meeting']!='False'), 'public_meeting'] = 'unknown' # replace NaN to keep it in the dataset\n",
    "        # Other cols\n",
    "        self.df.loc[pd.isnull(self.df['funder']), 'funder'] = 'unknown'\n",
    "        self.df.loc[pd.isnull(self.df['installer']), 'installer'] = 'unknown'\n",
    "\n",
    "    # def create_new_attributes(self):\n",
    "    #     # Attribute creation/manipulation\n",
    "    #     self.df['age'] = self.df['date_recorded'].dt.year-self.df['construction_year'] # create age col - keep as float due to no NaN representation for ints\n",
    "\n",
    "    def convert_lowercase(self):\n",
    "        # Convert everything to lowercase to remove case errors\n",
    "        for col in self.df.columns:\n",
    "            if self.df[col].dtype==object: # and col not in ['public_meeting']\n",
    "                self.df[col] = self.df[col].str.lower()\n",
    "\n",
    "    def group_infrequent_occurances(self):\n",
    "        # Grouping together infrequent occurances\n",
    "        self.df['funder_counts'] = self.df.groupby(['funder'])['funder'].transform('count')\n",
    "        self.df['installer_counts'] = self.df.groupby(['installer'])['installer'].transform('count')\n",
    "        self.df.loc[self.df['installer']=='central government', 'installer'] = 'government'\n",
    "        self.df.loc[self.df['installer']=='gover', 'installer'] = 'government'\n",
    "        self.df.loc[self.df['installer_counts']<400, 'installer'] = 'other' # Causes issues with test dataset as this number is fixed\n",
    "        self.df.loc[self.df['funder_counts']<400, 'funder'] = 'other' # Same here\n",
    "\n",
    "    def encode_dep_var(self):\n",
    "        # Do we want to do these?\n",
    "        self.df['status_group_encoding'] = self.df['status_group'].replace(\"non functional\", 0)\n",
    "        self.df['status_group_encoding'].replace(\"functional needs repair\", 1, inplace=True)\n",
    "        self.df['status_group_encoding'].replace(\"functional\", 2, inplace=True)\n",
    "        # self.df.drop(columns=['status_group'], inplace=True)\n",
    "\n",
    "    def drop_unnecessary_cols(self):\n",
    "        # Dropping quality_group as water_quality seems better! Same for source/type/class - generally the smalled subgroups have different distributions (more non-functional pumps!!)\n",
    "        self.df.drop(columns=['id', 'recorded_by', 'region_code', 'district_code', 'funder_counts', 'installer_counts', 'payment', 'quality_group', 'quantity_group', 'source_type', 'source_class', 'waterpoint_type', 'extraction_type_group', 'extraction_type', 'num_private', 'wpt_name', 'scheme_name', 'scheme_management', 'management', 'public_meeting'], inplace=True) # wpt_name, num_private,\n",
    "        # df.rename(columns={'payment_type': 'payment'})\n",
    "\n",
    "    def update_nans_col(self):\n",
    "        self.df[self.nans_col] = self.df.isna().sum(1)\n",
    "\n",
    "    def remove_dups(self):\n",
    "        # Finding dups\n",
    "        self.update_nans_col()\n",
    "        non_dup_criteria = ['id', self.nans_col, 'amount_tsh', 'gps_height', 'population', 'construction_year', 'permit', 'funder', 'installer', 'date_recorded'] # By including 'date_recorded', this means that any similar ones with different dates are counted as dups and therefore deleted\n",
    "        dup_criteria = [e for e in self.df.columns.tolist() if e not in non_dup_criteria]\n",
    "        dups = self.df[self.df.duplicated(keep=False, subset=dup_criteria)].sort_values(by=dup_criteria+[self.nans_col])\n",
    "\n",
    "        # Removing dups\n",
    "        self.df.sort_values(by=dup_criteria+[self.nans_col], inplace=True)\n",
    "        self.df.drop_duplicates(subset=dup_criteria, keep='first', inplace=True) # 104 dups\n",
    "        # df.sort_values(nans_col, ascending=False)\n",
    "\n",
    "    def sort_index(self):\n",
    "        #sorts index in ascending order and updates it\n",
    "        self.df.sort_index(inplace=True)\n",
    "        #delete current index and replace with numeric index\n",
    "        self.df.reset_index(drop=True, inplace=True)\n",
    "\n",
    "    def initial_cleaning(self, training_data=True):\n",
    "        self.convert_datetime()\n",
    "        self.convert_missing_values(training_data=training_data)\n",
    "        self.convert_missing_to_unkown()\n",
    "        # self.create_new_attributes()\n",
    "        self.convert_lowercase()\n",
    "        self.group_infrequent_occurances()\n",
    "        self.drop_unnecessary_cols()\n",
    "        if training_data:\n",
    "            self.encode_dep_var()\n",
    "            self.remove_dups()\n",
    "        self.sort_index()\n",
    "\n",
    "    def long_lat_imputation(self): # Pointon\n",
    "        # Imputation\n",
    "        # Using a shapefile to approximate GPS data by ward\n",
    "        ward_shape_file = gpd.read_file('2012 Wards Shapefiles/TZwards.shp') # from https://data.humdata.org/dataset/cod-ab-tza\n",
    "        ward_shape_file['approx_longitude'] = ward_shape_file.centroid.x\n",
    "        ward_shape_file['approx_latitude'] = ward_shape_file.centroid.y\n",
    "        ward_shape_file.rename(columns={'Ward_Name': 'ward'}, inplace=True)\n",
    "        ward_gps = ward_shape_file.sort_values('ward').groupby('ward').mean()[['approx_longitude', 'approx_latitude']]\n",
    "        ward_gps.reset_index(inplace=True)\n",
    "        ward_gps['ward'] = ward_gps['ward'].str.lower()\n",
    "\n",
    "        # Merging it with the main df\n",
    "        self.df = pd.merge(self.df, ward_gps, on='ward', how='left')\n",
    "        longitude_correls = self.df[['longitude', 'approx_longitude']].corr()\n",
    "        print(longitude_correls)\n",
    "        print(self.df[['latitude', 'approx_latitude']].corr())\n",
    "        print(f'Therefore a very accurate approximation as {round(pd.DataFrame(longitude_correls).iloc[0,1],2)} correlation \\n')\n",
    "\n",
    "        # Using the approximations to fill in the missing values\n",
    "        self.df.loc[pd.isnull(self.df['longitude']), 'longitude'] = self.df['approx_longitude']\n",
    "        self.df.loc[pd.isnull(self.df['latitude']), 'latitude'] = self.df['approx_latitude']\n",
    "        self.df.drop(columns=['approx_longitude', 'approx_latitude'], inplace=True)\n",
    "\n",
    "        # For the remaining 96 we will use the region/basin subgroup average as their entire ward is without GPS dta\n",
    "        self.df['longitude'] = self.df['longitude'].fillna(self.df.groupby(['region', 'basin'])['longitude'].transform('mean'))\n",
    "        self.df['latitude'] = self.df['latitude'].fillna(self.df.groupby(['region', 'basin'])['latitude'].transform('mean'))\n",
    "\n",
    "        # Then round to 8dp\n",
    "        self.df['longitude'] = self.df['longitude'].round(8)\n",
    "        self.df['latitude'] = self.df['latitude'].round(8)\n",
    "\n",
    "    def gps_height_imputation(self, training_data=True):\n",
    "        if training_data:\n",
    "            dataset='training'\n",
    "        else:\n",
    "            dataset = 'test'\n",
    "        altitudes = pd.read_csv(f'{dataset}_altitude_data.csv') # https://www.gpsvisualizer.com/convert_input?form=elevation\n",
    "        altitudes.drop_duplicates(inplace=True)\n",
    "        self.df = self.df.merge(altitudes, how='left', on=['longitude', 'latitude'])\n",
    "        self.df['gps_height'].fillna(self.df['altitude'], inplace=True)\n",
    "        self.df.drop(columns=['altitude'], inplace=True)\n",
    "\n",
    "    def mean_imputation(self, attribute: str, subgroups: list):\n",
    "        # Imputation - using subgroup imputation as no capacity for Tobit GLM regression in scikit\n",
    "        self.df[attribute] = self.df[attribute].fillna(self.df.groupby(subgroups)[attribute].transform('mean'))\n",
    "\n",
    "    def regression_imputation(self, attribute): # Pointon\n",
    "        params = self.df.columns.tolist()\n",
    "        params.remove(attribute)\n",
    "        temp_df = self.df.dropna()\n",
    "\n",
    "        # Estimate a Linear Regression model to estimate the missing data\n",
    "        imputation_model = linear_model.LinearRegression() # PoissonRegressor()\n",
    "        imputation_model.fit(X = temp_df[params], y = temp_df[attribute])\n",
    "\n",
    "        # Predict and add to df\n",
    "        temp_df2 = self.df[params].dropna()\n",
    "        imputation_values = pd.DataFrame(imputation_model.predict(temp_df2), index=temp_df2.index, columns=['imputation'])\n",
    "        self.df = self.df.join(imputation_values)\n",
    "        # self.df.sort_values(by='imputation') # sorts about half the values - need to override these!\n",
    "\n",
    "    def amount_tsh_imputation(self, training_data=True):\n",
    "        # Amount_tsh imputation\n",
    "        if training_data:\n",
    "            self.mean_imputation('amount_tsh', ['waterpoint_type_group', 'extraction_type_class', 'region', 'status_group'])\n",
    "        self.mean_imputation('amount_tsh', ['waterpoint_type_group', 'extraction_type_class', 'region'])\n",
    "        self.mean_imputation('amount_tsh', ['waterpoint_type_group', 'extraction_type_class'])\n",
    "        self.mean_imputation('amount_tsh', ['extraction_type_class']) # do we want waterpoint type or extraction type?\n",
    "        self.mean_imputation('amount_tsh', ['waterpoint_type_group'])\n",
    "\n",
    "    def construction_year_imputation(self, training_data=True):\n",
    "        # Construction year imputation\n",
    "        if training_data:\n",
    "            self.mean_imputation('construction_year', ['basin', 'region', 'lga', 'ward', 'subvillage'])\n",
    "            self.mean_imputation('construction_year', ['basin', 'region', 'lga', 'ward'])\n",
    "            self.mean_imputation('construction_year', ['basin', 'region', 'lga'])\n",
    "            self.mean_imputation('construction_year', ['basin', 'region'])\n",
    "            self.mean_imputation('construction_year', ['basin', 'waterpoint_type_group', 'extraction_type_class'])\n",
    "            self.mean_imputation('construction_year', ['basin', 'waterpoint_type_group'])\n",
    "            self.mean_imputation('construction_year', ['waterpoint_type_group'])\n",
    "        else:\n",
    "            for index, row in self.df.iterrows():\n",
    "                if pd.isna(row['construction_year']):\n",
    "                    value = self.training_data.loc[(self.training_data['basin']==row['basin']) & (self.training_data['region']==row['region']) & (self.training_data['lga']==row['lga']) & (self.training_data['ward']==row['ward']) & (self.training_data['subvillage']==row['subvillage'])]['construction_year'].mean()\n",
    "                    if pd.isna(value): # Therefore no imputation for that subgroup, so need to remove one filter\n",
    "                        value = self.training_data.loc[(self.training_data['basin']==row['basin']) & (self.training_data['region']==row['region']) & (self.training_data['lga']==row['lga']) & (self.training_data['ward']==row['ward'])]['construction_year'].mean()\n",
    "                        if pd.isna(value): # Therefore no imputation for that subgroup, so need to remove one filter\n",
    "                            value = self.training_data.loc[(self.training_data['basin']==row['basin']) & (self.training_data['region']==row['region']) & (self.training_data['lga']==row['lga'])]['construction_year'].mean()\n",
    "                            if pd.isna(value): # Therefore no imputation for that subgroup, so need to remove one filter\n",
    "                                value = self.training_data.loc[(self.training_data['basin']==row['basin']) & (self.training_data['region']==row['region'])]['construction_year'].mean()\n",
    "                                if pd.isna(value): # Therefore no imputation for that subgroup, so need to remove one filter\n",
    "                                    value = self.training_data.loc[(self.training_data['basin']==row['basin']) & (self.training_data['waterpoint_type_group']==row['waterpoint_type_group']) & (self.training_data['extraction_type_class']==row['extraction_type_class'])]['construction_year'].mean()\n",
    "                                    if pd.isna(value): # Therefore no imputation for that subgroup, so need to remove one filter\n",
    "                                        value = self.training_data.loc[(self.training_data['basin']==row['basin']) & (self.training_data['waterpoint_type_group']==row['waterpoint_type_group'])]['construction_year'].mean()\n",
    "                                        if pd.isna(value): # Therefore no imputation for that subgroup, so need to remove one filter\n",
    "                                            value = self.training_data.loc[(self.training_data['waterpoint_type_group']==row['waterpoint_type_group'])]['construction_year'].mean()\n",
    "                    self.df.loc[index, 'construction_year'] = value\n",
    "                else:\n",
    "                    pass\n",
    "        self.df['age'] = self.df['date_recorded'].dt.year-self.df['construction_year'] # create age col - keep as float due to no NaN representation for ints\n",
    "        self.df.loc[self.df['age']<0,'age'] = 0 # ensure a lower bound for age in case the imputations caused a negative age\n",
    "\n",
    "    def final_cleaning(self, pointon_analysis=False, training_data=True):\n",
    "        self.df.drop(columns=['date_recorded', 'population', 'construction_year'], inplace=True)\n",
    "        if pointon_analysis:\n",
    "            self.df.drop(columns=['subvillage', 'lga', 'ward'], inplace=True)\n",
    "        if training_data:\n",
    "            self.df.drop(columns=['status_group', 'NaNs'], inplace=True)\n",
    "\n",
    "    def cat_to_dummies(self, pointon_analysis=False):\n",
    "        if pointon_analysis: # Use smaller subgroups before converting to dummies to ensure model is parsimonious\n",
    "            # Group 'funder' into 3 categories (government, private, other)\n",
    "            self.df['funder'] = np.where((self.df['funder']=='government of tanzania') | (self.df['funder']=='district council'), 'government', self.df['funder'])\n",
    "            self.df['funder'] = np.where((self.df['funder']=='private') | (self.df['funder']=='government') | (self.df['funder']=='district council'), self.df['funder'], 'non-government')\n",
    "\n",
    "            # Group 'installer' into 3 categories (government, dwe, other)\n",
    "            self.df['installer'] = np.where(self.df['installer']=='district council', 'government', self.df['installer'])\n",
    "            self.df['installer'] = np.where((self.df['installer']=='dwe') | (self.df['installer']=='government') | (self.df['installer']=='district council'), self.df['installer'], 'other')\n",
    "\n",
    "        # Getting dummy vars from categorical data\n",
    "        self.DVs = []\n",
    "        for var in self.cat_cols:\n",
    "            dummies = pd.get_dummies(self.df[var]).add_prefix(var+\": \").iloc[:,1:] # first last dummy to avoid DV trap\n",
    "            self.df = pd.concat([self.df, dummies], axis=1)\n",
    "            self.df.drop(columns=[var], inplace=True)\n",
    "            self.DVs += list(dummies)\n",
    "\n",
    "    def normalise(self, c):\n",
    "        self.df[c] = (self.df[c] - self.df[c].min())/(self.df[c].max()-self.df[c].min())\n",
    "\n",
    "    def standardise(self, c):\n",
    "        self.df[c] = (self.df[c] - self.df[c].mean())/(self.df[c].std())\n",
    "\n",
    "    def normalise_standardise(self, normalise_cols, standardise_cols):\n",
    "        # Standardising prior to PCA - mostly standardising because of outliers/large values relative to the data skew\n",
    "        for col in normalise_cols:\n",
    "            self.normalise(col)\n",
    "\n",
    "        for col in standardise_cols:\n",
    "            self.standardise(col)\n",
    "\n",
    "    def normalise_long_lat(self):\n",
    "        centre_lat = -6.3728\n",
    "        centre_long = 34.8925\n",
    "\n",
    "        self.df['latitude'] = self.df['latitude'] - centre_lat\n",
    "        self.df['longitude'] = self.df['longitude'] - centre_long\n",
    "\n",
    "    def find_missing_values(self):\n",
    "        # Missing data\n",
    "        df_missing = self.df[self.df.columns[self.df.isnull().any()]]\n",
    "\n",
    "        # Number of NaNs per col:\n",
    "        print(f'The number of missing values per column is:\\n {df_missing.isna().sum()}')\n",
    "\n",
    "        # Visual missing data analysis\n",
    "        if df_missing.empty:\n",
    "            return\n",
    "        else:\n",
    "            return msno.matrix(df_missing) # as can be seen, missing values are attribute-dependent and not record-dependent\n",
    "\n",
    "    # def final_cleaning(self):\n",
    "    #     self.df.drop(columns=['subvillage'], inplace=True)\n",
    "\n",
    "    def get_geo_graphic(self): # Pointon and Braganza\n",
    "        # JB adapting the df to make it a geo-df with coordinate mapping\n",
    "        crs = {'init': 'epsg:4326'} # Coordinate Reference System\n",
    "        geometry = [Point(xy) for xy in zip(self.df['longitude'], self.df['latitude'])] # creating the geometry mapping from log/lat data\n",
    "        geo_df = gpd.GeoDataFrame(self.df, crs =crs, geometry = geometry)\n",
    "\n",
    "        # JP getting ready to plot the % functional pumps by region\n",
    "        districtMap = gpd.read_file('ShapeMaps/gadm41_TZA_1.shp') # from https://gadm.org/download_country.html\n",
    "        districtMap.rename(columns={'NAME_1':'region'}, inplace=True)\n",
    "        for column in districtMap.columns:\n",
    "            if districtMap[column].dtype==object: # and col not in ['public_meeting']\n",
    "                districtMap[column] = districtMap[column].str.lower()\n",
    "\n",
    "        # Adapting the shapemap to fit the data's regional splits\n",
    "        districtMap.loc[districtMap['region']=='katavi', 'region'] = 'rukwa'\n",
    "        districtMap.loc[(districtMap['region']=='geita') | (districtMap['region']=='simiyu'), 'region'] = 'shinyanga'\n",
    "        # geita -> shinyanga is an approximation!\n",
    "        districtMap.loc[districtMap['region']=='njombe', 'region'] = 'iringa'\n",
    "        districtMap.loc[districtMap['region']=='songwe', 'region'] = 'mbeya'\n",
    "\n",
    "        # Calculating number of functional pumps per region\n",
    "        num_pumps = self.df.groupby('region').count()['status_group']\n",
    "        num_functional_pumps = self.df.loc[self.df['status_group'] == 'functional'].groupby('region').count()['status_group']\n",
    "        # num_functional_pumps = num_functional_pumps.reset_index()\n",
    "        perc_functional_regional = pd.concat([num_pumps, num_functional_pumps], axis=1)\n",
    "        # perc_functional_regional = num_functional_pumps.join(num_pumps, on=['region'])\n",
    "        perc_functional_regional.columns = ['Total', 'Functional']\n",
    "        perc_functional_regional['proportion'] = perc_functional_regional['Functional']/perc_functional_regional['Total']\n",
    "\n",
    "        # Merging num_pumps with the shapemap\n",
    "        perc_functional_regional = districtMap.join(perc_functional_regional, on=['region'])\n",
    "\n",
    "        # Creating the graphic\n",
    "        ax = perc_functional_regional.plot(column='proportion', legend=True, legend_kwds={'label': \"Proportion of working water pumps\"})\n",
    "        geo_df.loc[geo_df['population']>10000].dropna(subset=['longitude', 'latitude']).plot(ax = ax, markersize = 0.008, color = \"blue\", marker = \"o\", label = \"Pump\")\n",
    "        plt.legend(prop={'size': 10})\n",
    "        plt.title('Geographical distribution of water pumps')\n",
    "        plt.xlabel('Longitude')\n",
    "        plt.ylabel('Latitude')\n",
    "        plt.savefig('Output/pumps_and_regional_functionality.png', dpi=1200)\n",
    "\n",
    "    def drop_insig_cols(self):\n",
    "        self.df.drop(columns=['waterpoint_type_group', 'basin: lake tanganyika', 'basin: pangani', 'basin: rufiji', 'basin: ruvuma / southern coast', 'basin: wami / ruvu', 'basin: lake nyasa', 'basin: lake rukwa', 'gps_height', 'region: mara', 'region: mbeya', 'region: mwanza', 'region: manyara', 'region: mtwara', 'region: pwani', 'region: lindi', 'permit: true', 'permit: unknown', 'source: hand dtw', 'water_quality: salty abandoned', 'water_quality: soft', 'amount_tsh', 'longitude', 'latitude'], inplace=True) # REMOVING AMOUNT_TSH HERE\n",
    "        # self.df.loc[self.df['amount_tsh']>0, 'amount_tsh']=1 # make it binary\n",
    "\n",
    "class Training(Dataset):\n",
    "    def __init__(self, data):\n",
    "        super().__init__(data)\n",
    "\n",
    "    def get_x_y_split(self):\n",
    "        y = self.df['status_group_encoding']\n",
    "        x = self.df.loc[:, self.df.columns!='status_group_encoding']\n",
    "        return y, x\n",
    "\n",
    "    def initial_preprocessing(self):\n",
    "        self.initial_cleaning() # Clean data\n",
    "\n",
    "        # GPS Imputation\n",
    "        self.long_lat_imputation() # Using the external shapefile\n",
    "        self.df.loc[pd.isnull(self.df['gps_height'])].to_csv('longlat_training.csv')\n",
    "        self.gps_height_imputation() # Using the external source from the longlat values\n",
    "\n",
    "        # Other imputations\n",
    "        self.amount_tsh_imputation() # Mean imputation by subgroup\n",
    "        self.construction_year_imputation() # Mean imputation by subgroup\n",
    "\n",
    "    def final_preprocessing(self, pointon_analysis=False):\n",
    "        self.final_cleaning(pointon_analysis=pointon_analysis) # Drop some cols\n",
    "\n",
    "        self.find_missing_values() # Can be commented out\n",
    "        self.cat_to_dummies(pointon_analysis=pointon_analysis) # Convert categorical columns to dummies\n",
    "        self.normalise_standardise([], ['amount_tsh', 'gps_height', 'age']) # Normalisation/standardisation\n",
    "        self.normalise_long_lat() # Normalising 'longitude' and 'latitude' using a central point so they are within [-5,5]\n",
    "\n",
    "        if pointon_analysis:\n",
    "            self.drop_insig_cols()\n",
    "\n",
    "class Test(Dataset):\n",
    "    def __init__(self, data, training_data):\n",
    "        super().__init__(data, training_data)\n",
    "\n",
    "    def preprocessing(self, pointon_analysis=False):\n",
    "        self.initial_cleaning(training_data=False) # Clean data but ignore the amount_tsh fix because we haven't got the status_group to verify\n",
    "\n",
    "        # GPS Imputation\n",
    "        self.long_lat_imputation() # Using the external shapefile\n",
    "        self.df.loc[pd.isnull(self.df['gps_height'])].to_csv('longlat_test.csv')\n",
    "        self.gps_height_imputation(training_data=False) # Using the external source from the longlat values\n",
    "\n",
    "        # Other imputations\n",
    "        self.amount_tsh_imputation(training_data=False) # Mean imputation by subgroup\n",
    "        self.construction_year_imputation(training_data=False) # Mean imputation by subgroup\n",
    "        self.final_cleaning(pointon_analysis=pointon_analysis, training_data=False) # Drop some cols\n",
    "\n",
    "        self.find_missing_values() # Can be commented out\n",
    "        self.cat_to_dummies(pointon_analysis=pointon_analysis) # Convert categorical columns to dummies\n",
    "        self.normalise_standardise([], ['amount_tsh', 'gps_height', 'age']) # Normalisation/standardisation\n",
    "        self.normalise_long_lat() # Normalising 'longitude' and 'latitude' using a central point so they are within [-5,5]\n",
    "\n",
    "        if pointon_analysis:\n",
    "            self.drop_insig_cols()"
   ]
  },
  {
   "cell_type": "code",
   "execution_count": 8,
   "metadata": {
    "collapsed": false
   },
   "outputs": [
    {
     "ename": "AttributeError",
     "evalue": "'Training' object has no attribute 'convert_missing_to_unkown'",
     "output_type": "error",
     "traceback": [
      "\u001b[0;31m---------------------------------------------------------------------------\u001b[0m",
      "\u001b[0;31mAttributeError\u001b[0m                            Traceback (most recent call last)",
      "Cell \u001b[0;32mIn[8], line 2\u001b[0m\n\u001b[1;32m      1\u001b[0m training \u001b[39m=\u001b[39m Training(training_df) \u001b[39m# Create Dataset instance for training data\u001b[39;00m\n\u001b[0;32m----> 2\u001b[0m training\u001b[39m.\u001b[39;49minitial_preprocessing() \u001b[39m# Pause after this to take a snapshot for the test data imputations\u001b[39;00m\n\u001b[1;32m      3\u001b[0m training_df_for_test_imputations \u001b[39m=\u001b[39m copy\u001b[39m.\u001b[39mdeepcopy(training\u001b[39m.\u001b[39mdf) \u001b[39m# Take a copy of the df\u001b[39;00m\n\u001b[1;32m      4\u001b[0m training\u001b[39m.\u001b[39mfinal_preprocessing(pointon_analysis\u001b[39m=\u001b[39m\u001b[39mTrue\u001b[39;00m) \u001b[39m# Continue with the preprocessing\u001b[39;00m\n",
      "Cell \u001b[0;32mIn[7], line 329\u001b[0m, in \u001b[0;36mTraining.initial_preprocessing\u001b[0;34m(self)\u001b[0m\n\u001b[1;32m    328\u001b[0m \u001b[39mdef\u001b[39;00m \u001b[39minitial_preprocessing\u001b[39m(\u001b[39mself\u001b[39m):\n\u001b[0;32m--> 329\u001b[0m     \u001b[39mself\u001b[39;49m\u001b[39m.\u001b[39;49minitial_cleaning() \u001b[39m# Clean data\u001b[39;00m\n\u001b[1;32m    331\u001b[0m     \u001b[39m# GPS Imputation\u001b[39;00m\n\u001b[1;32m    332\u001b[0m     \u001b[39mself\u001b[39m\u001b[39m.\u001b[39mlong_lat_imputation() \u001b[39m# Using the external shapefile\u001b[39;00m\n",
      "Cell \u001b[0;32mIn[7], line 100\u001b[0m, in \u001b[0;36mDataset.initial_cleaning\u001b[0;34m(self, training_data)\u001b[0m\n\u001b[1;32m     98\u001b[0m \u001b[39mself\u001b[39m\u001b[39m.\u001b[39mconvert_datetime()\n\u001b[1;32m     99\u001b[0m \u001b[39mself\u001b[39m\u001b[39m.\u001b[39mconvert_missing_values(training_data\u001b[39m=\u001b[39mtraining_data)\n\u001b[0;32m--> 100\u001b[0m \u001b[39mself\u001b[39;49m\u001b[39m.\u001b[39;49mconvert_missing_to_unkown()\n\u001b[1;32m    101\u001b[0m \u001b[39m# self.create_new_attributes()\u001b[39;00m\n\u001b[1;32m    102\u001b[0m \u001b[39mself\u001b[39m\u001b[39m.\u001b[39mconvert_lowercase()\n",
      "\u001b[0;31mAttributeError\u001b[0m: 'Training' object has no attribute 'convert_missing_to_unkown'"
     ]
    }
   ],
   "source": [
    "training = Training(training_df) # Create Dataset instance for training data\n",
    "training.initial_preprocessing() # Pause after this to take a snapshot for the test data imputations\n",
    "training_df_for_test_imputations = copy.deepcopy(training.df) # Take a copy of the df\n",
    "training.final_preprocessing(pointon_analysis=True) # Continue with the preprocessing\n",
    "training.df = training.df.dropna() # REMOVE THE DROPNA\n",
    "y_train, X_train = training.get_x_y_split()"
   ]
  },
  {
   "cell_type": "code",
   "execution_count": 225,
   "metadata": {
    "collapsed": false
   },
   "outputs": [
    {
     "name": "stderr",
     "output_type": "stream",
     "text": [
      "C:\\Users\\point\\AppData\\Local\\Temp\\ipykernel_19280\\721031402.py:112: UserWarning: Geometry is in a geographic CRS. Results from 'centroid' are likely incorrect. Use 'GeoSeries.to_crs()' to re-project geometries to a projected CRS before this operation.\n",
      "\n",
      "  ward_shape_file['approx_longitude'] = ward_shape_file.centroid.x\n",
      "C:\\Users\\point\\AppData\\Local\\Temp\\ipykernel_19280\\721031402.py:113: UserWarning: Geometry is in a geographic CRS. Results from 'centroid' are likely incorrect. Use 'GeoSeries.to_crs()' to re-project geometries to a projected CRS before this operation.\n",
      "\n",
      "  ward_shape_file['approx_latitude'] = ward_shape_file.centroid.y\n"
     ]
    },
    {
     "name": "stdout",
     "output_type": "stream",
     "text": [
      "                  longitude  approx_longitude\n",
      "longitude          1.000000          0.979731\n",
      "approx_longitude   0.979731          1.000000\n",
      "                 latitude  approx_latitude\n",
      "latitude         1.000000         0.983669\n",
      "approx_latitude  0.983669         1.000000\n",
      "Therefore a very accurate approximation as 0.98 correlation \n",
      "\n",
      "The number of missing values per column is:\n",
      " Series([], dtype: float64)\n"
     ]
    },
    {
     "data": {
      "text/html": [
       "<div>\n",
       "<style scoped>\n",
       "    .dataframe tbody tr th:only-of-type {\n",
       "        vertical-align: middle;\n",
       "    }\n",
       "\n",
       "    .dataframe tbody tr th {\n",
       "        vertical-align: top;\n",
       "    }\n",
       "\n",
       "    .dataframe thead th {\n",
       "        text-align: right;\n",
       "    }\n",
       "</style>\n",
       "<table border=\"1\" class=\"dataframe\">\n",
       "  <thead>\n",
       "    <tr style=\"text-align: right;\">\n",
       "      <th></th>\n",
       "      <th>age</th>\n",
       "      <th>funder: non-government</th>\n",
       "      <th>installer: government</th>\n",
       "      <th>installer: other</th>\n",
       "      <th>basin: lake victoria</th>\n",
       "      <th>region: dar es salaam</th>\n",
       "      <th>region: dodoma</th>\n",
       "      <th>region: iringa</th>\n",
       "      <th>region: kagera</th>\n",
       "      <th>region: kigoma</th>\n",
       "      <th>...</th>\n",
       "      <th>quantity: seasonal</th>\n",
       "      <th>quantity: unknown</th>\n",
       "      <th>source: lake</th>\n",
       "      <th>source: machine dbh</th>\n",
       "      <th>source: other</th>\n",
       "      <th>source: rainwater harvesting</th>\n",
       "      <th>source: river</th>\n",
       "      <th>source: shallow well</th>\n",
       "      <th>source: spring</th>\n",
       "      <th>source: unknown</th>\n",
       "    </tr>\n",
       "  </thead>\n",
       "  <tbody>\n",
       "    <tr>\n",
       "      <th>0</th>\n",
       "      <td>-1.357414</td>\n",
       "      <td>1</td>\n",
       "      <td>0</td>\n",
       "      <td>1</td>\n",
       "      <td>0</td>\n",
       "      <td>0</td>\n",
       "      <td>0</td>\n",
       "      <td>0</td>\n",
       "      <td>0</td>\n",
       "      <td>0</td>\n",
       "      <td>...</td>\n",
       "      <td>1</td>\n",
       "      <td>0</td>\n",
       "      <td>0</td>\n",
       "      <td>0</td>\n",
       "      <td>0</td>\n",
       "      <td>1</td>\n",
       "      <td>0</td>\n",
       "      <td>0</td>\n",
       "      <td>0</td>\n",
       "      <td>0</td>\n",
       "    </tr>\n",
       "    <tr>\n",
       "      <th>1</th>\n",
       "      <td>-0.182166</td>\n",
       "      <td>0</td>\n",
       "      <td>0</td>\n",
       "      <td>0</td>\n",
       "      <td>0</td>\n",
       "      <td>0</td>\n",
       "      <td>0</td>\n",
       "      <td>0</td>\n",
       "      <td>0</td>\n",
       "      <td>0</td>\n",
       "      <td>...</td>\n",
       "      <td>0</td>\n",
       "      <td>0</td>\n",
       "      <td>0</td>\n",
       "      <td>0</td>\n",
       "      <td>0</td>\n",
       "      <td>0</td>\n",
       "      <td>0</td>\n",
       "      <td>0</td>\n",
       "      <td>1</td>\n",
       "      <td>0</td>\n",
       "    </tr>\n",
       "    <tr>\n",
       "      <th>2</th>\n",
       "      <td>-1.161539</td>\n",
       "      <td>1</td>\n",
       "      <td>0</td>\n",
       "      <td>1</td>\n",
       "      <td>0</td>\n",
       "      <td>0</td>\n",
       "      <td>0</td>\n",
       "      <td>0</td>\n",
       "      <td>0</td>\n",
       "      <td>0</td>\n",
       "      <td>...</td>\n",
       "      <td>0</td>\n",
       "      <td>0</td>\n",
       "      <td>0</td>\n",
       "      <td>0</td>\n",
       "      <td>0</td>\n",
       "      <td>1</td>\n",
       "      <td>0</td>\n",
       "      <td>0</td>\n",
       "      <td>0</td>\n",
       "      <td>0</td>\n",
       "    </tr>\n",
       "    <tr>\n",
       "      <th>3</th>\n",
       "      <td>1.091020</td>\n",
       "      <td>1</td>\n",
       "      <td>0</td>\n",
       "      <td>1</td>\n",
       "      <td>0</td>\n",
       "      <td>0</td>\n",
       "      <td>0</td>\n",
       "      <td>0</td>\n",
       "      <td>0</td>\n",
       "      <td>0</td>\n",
       "      <td>...</td>\n",
       "      <td>0</td>\n",
       "      <td>0</td>\n",
       "      <td>0</td>\n",
       "      <td>0</td>\n",
       "      <td>0</td>\n",
       "      <td>0</td>\n",
       "      <td>0</td>\n",
       "      <td>1</td>\n",
       "      <td>0</td>\n",
       "      <td>0</td>\n",
       "    </tr>\n",
       "    <tr>\n",
       "      <th>4</th>\n",
       "      <td>-0.182166</td>\n",
       "      <td>1</td>\n",
       "      <td>0</td>\n",
       "      <td>1</td>\n",
       "      <td>0</td>\n",
       "      <td>0</td>\n",
       "      <td>0</td>\n",
       "      <td>0</td>\n",
       "      <td>0</td>\n",
       "      <td>0</td>\n",
       "      <td>...</td>\n",
       "      <td>0</td>\n",
       "      <td>0</td>\n",
       "      <td>0</td>\n",
       "      <td>0</td>\n",
       "      <td>0</td>\n",
       "      <td>0</td>\n",
       "      <td>0</td>\n",
       "      <td>0</td>\n",
       "      <td>1</td>\n",
       "      <td>0</td>\n",
       "    </tr>\n",
       "    <tr>\n",
       "      <th>...</th>\n",
       "      <td>...</td>\n",
       "      <td>...</td>\n",
       "      <td>...</td>\n",
       "      <td>...</td>\n",
       "      <td>...</td>\n",
       "      <td>...</td>\n",
       "      <td>...</td>\n",
       "      <td>...</td>\n",
       "      <td>...</td>\n",
       "      <td>...</td>\n",
       "      <td>...</td>\n",
       "      <td>...</td>\n",
       "      <td>...</td>\n",
       "      <td>...</td>\n",
       "      <td>...</td>\n",
       "      <td>...</td>\n",
       "      <td>...</td>\n",
       "      <td>...</td>\n",
       "      <td>...</td>\n",
       "      <td>...</td>\n",
       "      <td>...</td>\n",
       "    </tr>\n",
       "    <tr>\n",
       "      <th>14845</th>\n",
       "      <td>0.797208</td>\n",
       "      <td>1</td>\n",
       "      <td>0</td>\n",
       "      <td>1</td>\n",
       "      <td>0</td>\n",
       "      <td>0</td>\n",
       "      <td>0</td>\n",
       "      <td>0</td>\n",
       "      <td>0</td>\n",
       "      <td>0</td>\n",
       "      <td>...</td>\n",
       "      <td>0</td>\n",
       "      <td>0</td>\n",
       "      <td>0</td>\n",
       "      <td>0</td>\n",
       "      <td>0</td>\n",
       "      <td>0</td>\n",
       "      <td>1</td>\n",
       "      <td>0</td>\n",
       "      <td>0</td>\n",
       "      <td>0</td>\n",
       "    </tr>\n",
       "    <tr>\n",
       "      <th>14846</th>\n",
       "      <td>0.209584</td>\n",
       "      <td>1</td>\n",
       "      <td>0</td>\n",
       "      <td>1</td>\n",
       "      <td>0</td>\n",
       "      <td>0</td>\n",
       "      <td>0</td>\n",
       "      <td>0</td>\n",
       "      <td>0</td>\n",
       "      <td>0</td>\n",
       "      <td>...</td>\n",
       "      <td>0</td>\n",
       "      <td>0</td>\n",
       "      <td>0</td>\n",
       "      <td>0</td>\n",
       "      <td>0</td>\n",
       "      <td>0</td>\n",
       "      <td>0</td>\n",
       "      <td>1</td>\n",
       "      <td>0</td>\n",
       "      <td>0</td>\n",
       "    </tr>\n",
       "    <tr>\n",
       "      <th>14847</th>\n",
       "      <td>-1.161539</td>\n",
       "      <td>1</td>\n",
       "      <td>0</td>\n",
       "      <td>1</td>\n",
       "      <td>0</td>\n",
       "      <td>0</td>\n",
       "      <td>0</td>\n",
       "      <td>0</td>\n",
       "      <td>0</td>\n",
       "      <td>0</td>\n",
       "      <td>...</td>\n",
       "      <td>0</td>\n",
       "      <td>0</td>\n",
       "      <td>0</td>\n",
       "      <td>0</td>\n",
       "      <td>0</td>\n",
       "      <td>0</td>\n",
       "      <td>0</td>\n",
       "      <td>0</td>\n",
       "      <td>0</td>\n",
       "      <td>0</td>\n",
       "    </tr>\n",
       "    <tr>\n",
       "      <th>14848</th>\n",
       "      <td>-1.063602</td>\n",
       "      <td>1</td>\n",
       "      <td>0</td>\n",
       "      <td>0</td>\n",
       "      <td>0</td>\n",
       "      <td>0</td>\n",
       "      <td>0</td>\n",
       "      <td>0</td>\n",
       "      <td>0</td>\n",
       "      <td>0</td>\n",
       "      <td>...</td>\n",
       "      <td>0</td>\n",
       "      <td>0</td>\n",
       "      <td>0</td>\n",
       "      <td>0</td>\n",
       "      <td>0</td>\n",
       "      <td>0</td>\n",
       "      <td>1</td>\n",
       "      <td>0</td>\n",
       "      <td>0</td>\n",
       "      <td>0</td>\n",
       "    </tr>\n",
       "    <tr>\n",
       "      <th>14849</th>\n",
       "      <td>-0.965664</td>\n",
       "      <td>0</td>\n",
       "      <td>1</td>\n",
       "      <td>0</td>\n",
       "      <td>0</td>\n",
       "      <td>0</td>\n",
       "      <td>0</td>\n",
       "      <td>0</td>\n",
       "      <td>0</td>\n",
       "      <td>0</td>\n",
       "      <td>...</td>\n",
       "      <td>0</td>\n",
       "      <td>0</td>\n",
       "      <td>0</td>\n",
       "      <td>0</td>\n",
       "      <td>0</td>\n",
       "      <td>0</td>\n",
       "      <td>0</td>\n",
       "      <td>0</td>\n",
       "      <td>1</td>\n",
       "      <td>0</td>\n",
       "    </tr>\n",
       "  </tbody>\n",
       "</table>\n",
       "<p>14850 rows × 51 columns</p>\n",
       "</div>"
      ],
      "text/plain": [
       "            age  funder: non-government  installer: government  \\\n",
       "0     -1.357414                       1                      0   \n",
       "1     -0.182166                       0                      0   \n",
       "2     -1.161539                       1                      0   \n",
       "3      1.091020                       1                      0   \n",
       "4     -0.182166                       1                      0   \n",
       "...         ...                     ...                    ...   \n",
       "14845  0.797208                       1                      0   \n",
       "14846  0.209584                       1                      0   \n",
       "14847 -1.161539                       1                      0   \n",
       "14848 -1.063602                       1                      0   \n",
       "14849 -0.965664                       0                      1   \n",
       "\n",
       "       installer: other  basin: lake victoria  region: dar es salaam  \\\n",
       "0                     1                     0                      0   \n",
       "1                     0                     0                      0   \n",
       "2                     1                     0                      0   \n",
       "3                     1                     0                      0   \n",
       "4                     1                     0                      0   \n",
       "...                 ...                   ...                    ...   \n",
       "14845                 1                     0                      0   \n",
       "14846                 1                     0                      0   \n",
       "14847                 1                     0                      0   \n",
       "14848                 0                     0                      0   \n",
       "14849                 0                     0                      0   \n",
       "\n",
       "       region: dodoma  region: iringa  region: kagera  region: kigoma  ...  \\\n",
       "0                   0               0               0               0  ...   \n",
       "1                   0               0               0               0  ...   \n",
       "2                   0               0               0               0  ...   \n",
       "3                   0               0               0               0  ...   \n",
       "4                   0               0               0               0  ...   \n",
       "...               ...             ...             ...             ...  ...   \n",
       "14845               0               0               0               0  ...   \n",
       "14846               0               0               0               0  ...   \n",
       "14847               0               0               0               0  ...   \n",
       "14848               0               0               0               0  ...   \n",
       "14849               0               0               0               0  ...   \n",
       "\n",
       "       quantity: seasonal  quantity: unknown  source: lake  \\\n",
       "0                       1                  0             0   \n",
       "1                       0                  0             0   \n",
       "2                       0                  0             0   \n",
       "3                       0                  0             0   \n",
       "4                       0                  0             0   \n",
       "...                   ...                ...           ...   \n",
       "14845                   0                  0             0   \n",
       "14846                   0                  0             0   \n",
       "14847                   0                  0             0   \n",
       "14848                   0                  0             0   \n",
       "14849                   0                  0             0   \n",
       "\n",
       "       source: machine dbh  source: other  source: rainwater harvesting  \\\n",
       "0                        0              0                             1   \n",
       "1                        0              0                             0   \n",
       "2                        0              0                             1   \n",
       "3                        0              0                             0   \n",
       "4                        0              0                             0   \n",
       "...                    ...            ...                           ...   \n",
       "14845                    0              0                             0   \n",
       "14846                    0              0                             0   \n",
       "14847                    0              0                             0   \n",
       "14848                    0              0                             0   \n",
       "14849                    0              0                             0   \n",
       "\n",
       "       source: river  source: shallow well  source: spring  source: unknown  \n",
       "0                  0                     0               0                0  \n",
       "1                  0                     0               1                0  \n",
       "2                  0                     0               0                0  \n",
       "3                  0                     1               0                0  \n",
       "4                  0                     0               1                0  \n",
       "...              ...                   ...             ...              ...  \n",
       "14845              1                     0               0                0  \n",
       "14846              0                     1               0                0  \n",
       "14847              0                     0               0                0  \n",
       "14848              1                     0               0                0  \n",
       "14849              0                     0               1                0  \n",
       "\n",
       "[14850 rows x 51 columns]"
      ]
     },
     "execution_count": 225,
     "metadata": {},
     "output_type": "execute_result"
    }
   ],
   "source": [
    "test = Test(test_df, training_df_for_test_imputations) # Create Dataset instance for test data - IMPORTANT TO CREATE THIS AFTER CLEANING THE TRAINING DATASET as the mean imputation relies on the cleaned dataset\n",
    "test.preprocessing(pointon_analysis=True)\n",
    "test.df"
   ]
  },
  {
   "cell_type": "code",
   "execution_count": 226,
   "metadata": {
    "collapsed": false
   },
   "outputs": [
    {
     "data": {
      "text/html": [
       "<div>\n",
       "<style scoped>\n",
       "    .dataframe tbody tr th:only-of-type {\n",
       "        vertical-align: middle;\n",
       "    }\n",
       "\n",
       "    .dataframe tbody tr th {\n",
       "        vertical-align: top;\n",
       "    }\n",
       "\n",
       "    .dataframe thead th {\n",
       "        text-align: right;\n",
       "    }\n",
       "</style>\n",
       "<table border=\"1\" class=\"dataframe\">\n",
       "  <thead>\n",
       "    <tr style=\"text-align: right;\">\n",
       "      <th></th>\n",
       "      <th>id</th>\n",
       "      <th>status_group</th>\n",
       "    </tr>\n",
       "  </thead>\n",
       "  <tbody>\n",
       "    <tr>\n",
       "      <th>0</th>\n",
       "      <td>50785</td>\n",
       "      <td>functional</td>\n",
       "    </tr>\n",
       "    <tr>\n",
       "      <th>1</th>\n",
       "      <td>51630</td>\n",
       "      <td>functional</td>\n",
       "    </tr>\n",
       "    <tr>\n",
       "      <th>2</th>\n",
       "      <td>17168</td>\n",
       "      <td>functional</td>\n",
       "    </tr>\n",
       "    <tr>\n",
       "      <th>3</th>\n",
       "      <td>45559</td>\n",
       "      <td>non functional</td>\n",
       "    </tr>\n",
       "    <tr>\n",
       "      <th>4</th>\n",
       "      <td>49871</td>\n",
       "      <td>functional</td>\n",
       "    </tr>\n",
       "    <tr>\n",
       "      <th>...</th>\n",
       "      <td>...</td>\n",
       "      <td>...</td>\n",
       "    </tr>\n",
       "    <tr>\n",
       "      <th>14845</th>\n",
       "      <td>39307</td>\n",
       "      <td>non functional</td>\n",
       "    </tr>\n",
       "    <tr>\n",
       "      <th>14846</th>\n",
       "      <td>18990</td>\n",
       "      <td>functional</td>\n",
       "    </tr>\n",
       "    <tr>\n",
       "      <th>14847</th>\n",
       "      <td>28749</td>\n",
       "      <td>functional</td>\n",
       "    </tr>\n",
       "    <tr>\n",
       "      <th>14848</th>\n",
       "      <td>33492</td>\n",
       "      <td>functional</td>\n",
       "    </tr>\n",
       "    <tr>\n",
       "      <th>14849</th>\n",
       "      <td>68707</td>\n",
       "      <td>non functional</td>\n",
       "    </tr>\n",
       "  </tbody>\n",
       "</table>\n",
       "<p>14850 rows × 2 columns</p>\n",
       "</div>"
      ],
      "text/plain": [
       "          id    status_group\n",
       "0      50785      functional\n",
       "1      51630      functional\n",
       "2      17168      functional\n",
       "3      45559  non functional\n",
       "4      49871      functional\n",
       "...      ...             ...\n",
       "14845  39307  non functional\n",
       "14846  18990      functional\n",
       "14847  28749      functional\n",
       "14848  33492      functional\n",
       "14849  68707  non functional\n",
       "\n",
       "[14850 rows x 2 columns]"
      ]
     },
     "execution_count": 226,
     "metadata": {},
     "output_type": "execute_result"
    }
   ],
   "source": [
    "# training.df['extraction_type_class'].value_counts()\n",
    "from sklearn import datasets\n",
    "from sklearn import metrics\n",
    "from sklearn.neural_network import MLPClassifier\n",
    "from sklearn.neural_network import MLPRegressor\n",
    "\n",
    "# training.df.drop(columns=['status_group'], inplace=True)\n",
    "\n",
    "model = MLPClassifier(hidden_layer_sizes=(100,), max_iter=500, alpha=0.5) # Don't want to be too simple but don't want to overfit - (93inputs + 3outputs)*2/3 as per https://medium.com/geekculture/introduction-to-neural-network-2f8b8221fbd3\n",
    "# (64,64) accuracy: 0.5622\n",
    "# (64,) accuracy: 0.5426\n",
    "model.fit(X_train, y_train)\n",
    "predicted_y = model.predict(test.df)\n",
    "\n",
    "def decode_dep_var(model_predictions):\n",
    "    # Do we want to do these?\n",
    "    model_predictions = pd.DataFrame(model_predictions)\n",
    "    model_predictions['status_group'] = model_predictions[0].replace(0, \"non functional\")\n",
    "    model_predictions['status_group'].replace(1, \"functional needs repair\", inplace=True)\n",
    "    model_predictions['status_group'].replace(2, \"functional\", inplace=True)\n",
    "    model_predictions.drop(columns=[0], inplace=True)\n",
    "    return model_predictions\n",
    "\n",
    "def concat_id_and_predictions(test_object, predictions):\n",
    "    prediction_output = pd.DataFrame()\n",
    "    prediction_output['id'] = test_object.ids\n",
    "    prediction_output['status_group'] = predictions\n",
    "    return prediction_output\n",
    "\n",
    "predicted_y = decode_dep_var(predicted_y)\n",
    "prediction_output = concat_id_and_predictions(test, predicted_y)\n",
    "prediction_output.to_csv('pointon_predictions_MLP_alpha0_5.csv', index=False)\n",
    "prediction_output"
   ]
  },
  {
   "cell_type": "markdown",
   "metadata": {
    "collapsed": false
   },
   "source": []
  },
  {
   "cell_type": "code",
   "execution_count": 215,
   "metadata": {
    "collapsed": false
   },
   "outputs": [
    {
     "data": {
      "text/plain": [
       "<Figure size 432x288 with 0 Axes>"
      ]
     },
     "metadata": {},
     "output_type": "display_data"
    },
    {
     "data": {
      "image/png": "[encoded data removed]",
      "text/plain": [
       "<Figure size 288x288 with 1 Axes>"
      ]
     },
     "metadata": {
      "needs_background": "light"
     },
     "output_type": "display_data"
    }
   ],
   "source": [
    "fig = plt.figure()\n",
    "plt.matshow(cm)\n",
    "plt.savefig('Output/confusion_matrix.png', dpi=1200)"
   ]
  },
  {
   "cell_type": "code",
   "execution_count": 237,
   "metadata": {
    "collapsed": false
   },
   "outputs": [
    {
     "name": "stdout",
     "output_type": "stream",
     "text": [
      "Optimization terminated successfully.\n",
      "         Current function value: 0.666018\n",
      "         Iterations: 500\n",
      "         Function evaluations: 501\n",
      "         Gradient evaluations: 501\n",
      "                            MNLogit Regression Results                           \n",
      "=================================================================================\n",
      "Dep. Variable:     status_group_encoding   No. Observations:                59087\n",
      "Model:                           MNLogit   Df Residuals:                    58983\n",
      "Method:                              MLE   Df Model:                          102\n",
      "Date:                   Thu, 23 Mar 2023   Pseudo R-squ.:                  0.2512\n",
      "Time:                           10:51:47   Log-Likelihood:                -39353.\n",
      "converged:                          True   LL-Null:                       -52553.\n",
      "Covariance Type:               nonrobust   LLR p-value:                     0.000\n",
      "=======================================================================================================\n",
      "            status_group_encoding=1       coef    std err          z      P>|z|      [0.025      0.975]\n",
      "-------------------------------------------------------------------------------------------------------\n",
      "const                                  -6.4988      0.285    -22.798      0.000      -7.058      -5.940\n",
      "age                                    -0.1202      0.020     -5.956      0.000      -0.160      -0.081\n",
      "funder: non-government                  0.4888      0.060      8.186      0.000       0.372       0.606\n",
      "installer: government                  -0.1934      0.079     -2.453      0.014      -0.348      -0.039\n",
      "installer: other                       -0.4194      0.043     -9.776      0.000      -0.503      -0.335\n",
      "basin: lake victoria                    0.8126      0.065     12.540      0.000       0.686       0.940\n",
      "region: dar es salaam                  -1.7763      0.596     -2.981      0.003      -2.944      -0.608\n",
      "region: dodoma                          1.1460      0.100     11.412      0.000       0.949       1.343\n",
      "region: iringa                         -0.8462      0.112     -7.589      0.000      -1.065      -0.628\n",
      "region: kagera                         -0.5592      0.090     -6.199      0.000      -0.736      -0.382\n",
      "region: kigoma                          0.8678      0.076     11.368      0.000       0.718       1.017\n",
      "region: kilimanjaro                    -0.3933      0.079     -4.964      0.000      -0.549      -0.238\n",
      "region: morogoro                        0.0867      0.080      1.077      0.282      -0.071       0.244\n",
      "region: rukwa                           0.0278      0.112      0.247      0.805      -0.192       0.248\n",
      "region: ruvuma                          0.2768      0.105      2.629      0.009       0.070       0.483\n",
      "region: shinyanga                       1.5460      0.074     20.806      0.000       1.400       1.692\n",
      "region: singida                         1.1769      0.116     10.127      0.000       0.949       1.405\n",
      "region: tabora                         -0.2121      0.163     -1.299      0.194      -0.532       0.108\n",
      "region: tanga                          -0.8699      0.133     -6.541      0.000      -1.131      -0.609\n",
      "extraction_type_class: handpump        -0.5498      0.106     -5.168      0.000      -0.758      -0.341\n",
      "extraction_type_class: motorpump       -0.9322      0.132     -7.077      0.000      -1.190      -0.674\n",
      "extraction_type_class: other           -1.9636      0.107    -18.415      0.000      -2.173      -1.755\n",
      "extraction_type_class: rope pump       -0.7469      0.281     -2.659      0.008      -1.297      -0.196\n",
      "extraction_type_class: submersible     -0.5962      0.102     -5.864      0.000      -0.795      -0.397\n",
      "extraction_type_class: wind-powered    -1.0797      0.422     -2.558      0.011      -1.907      -0.252\n",
      "management_group: other                 0.8303      0.194      4.276      0.000       0.450       1.211\n",
      "management_group: parastatal            0.7186      0.146      4.910      0.000       0.432       1.005\n",
      "management_group: unknown               1.1576      0.252      4.587      0.000       0.663       1.652\n",
      "management_group: user-group            0.7049      0.105      6.684      0.000       0.498       0.912\n",
      "payment_type: monthly                   0.0123      0.095      0.130      0.897      -0.174       0.199\n",
      "payment_type: never pay                -0.7156      0.091     -7.879      0.000      -0.894      -0.538\n",
      "payment_type: on failure               -0.3136      0.111     -2.836      0.005      -0.530      -0.097\n",
      "payment_type: other                    -0.7540      0.154     -4.889      0.000      -1.056      -0.452\n",
      "payment_type: per bucket               -0.3984      0.109     -3.660      0.000      -0.612      -0.185\n",
      "payment_type: unknown                  -1.4263      0.105    -13.590      0.000      -1.632      -1.221\n",
      "water_quality: fluoride                 0.5743      0.334      1.718      0.086      -0.081       1.229\n",
      "water_quality: fluoride abandoned      -1.1385      1.385     -0.822      0.411      -3.853       1.576\n",
      "water_quality: milky                   -0.6188      0.285     -2.172      0.030      -1.177      -0.060\n",
      "water_quality: salty                    0.0578      0.081      0.714      0.475      -0.101       0.216\n",
      "water_quality: unknown                 -0.2416      0.216     -1.117      0.264      -0.666       0.182\n",
      "quantity: enough                        3.7858      0.169     22.390      0.000       3.454       4.117\n",
      "quantity: insufficient                  3.7992      0.170     22.295      0.000       3.465       4.133\n",
      "quantity: seasonal                      3.6429      0.180     20.222      0.000       3.290       3.996\n",
      "quantity: unknown                       1.8382      0.368      4.996      0.000       1.117       2.559\n",
      "source: lake                           -1.1022      0.344     -3.209      0.001      -1.776      -0.429\n",
      "source: machine dbh                     0.8812      0.180      4.894      0.000       0.528       1.234\n",
      "source: other                          -0.5576      1.120     -0.498      0.619      -2.752       1.637\n",
      "source: rainwater harvesting            2.2497      0.197     11.426      0.000       1.864       2.636\n",
      "source: river                           1.7385      0.181      9.617      0.000       1.384       2.093\n",
      "source: shallow well                    0.8955      0.182      4.934      0.000       0.540       1.251\n",
      "source: spring                          1.6967      0.181      9.381      0.000       1.342       2.051\n",
      "source: unknown                         1.5434      0.567      2.720      0.007       0.431       2.655\n",
      "-------------------------------------------------------------------------------------------------------\n",
      "            status_group_encoding=2       coef    std err          z      P>|z|      [0.025      0.975]\n",
      "-------------------------------------------------------------------------------------------------------\n",
      "const                                  -4.2455      0.142    -29.910      0.000      -4.524      -3.967\n",
      "age                                    -0.3852      0.012    -32.361      0.000      -0.409      -0.362\n",
      "funder: non-government                  0.3913      0.035     11.027      0.000       0.322       0.461\n",
      "installer: government                  -0.5820      0.052    -11.246      0.000      -0.683      -0.481\n",
      "installer: other                       -0.1014      0.027     -3.793      0.000      -0.154      -0.049\n",
      "basin: lake victoria                    0.2076      0.039      5.356      0.000       0.132       0.284\n",
      "region: dar es salaam                   0.2301      0.100      2.312      0.021       0.035       0.425\n",
      "region: dodoma                          0.5404      0.068      7.981      0.000       0.408       0.673\n",
      "region: iringa                          0.6725      0.054     12.415      0.000       0.566       0.779\n",
      "region: kagera                         -0.2961      0.055     -5.367      0.000      -0.404      -0.188\n",
      "region: kigoma                         -0.2369      0.055     -4.284      0.000      -0.345      -0.129\n",
      "region: kilimanjaro                    -0.3384      0.047     -7.139      0.000      -0.431      -0.245\n",
      "region: morogoro                        0.0280      0.047      0.597      0.551      -0.064       0.120\n",
      "region: rukwa                          -0.3495      0.068     -5.150      0.000      -0.483      -0.216\n",
      "region: ruvuma                          0.4351      0.065      6.714      0.000       0.308       0.562\n",
      "region: shinyanga                       0.5837      0.049     11.949      0.000       0.488       0.679\n",
      "region: singida                         0.6946      0.069     10.076      0.000       0.560       0.830\n",
      "region: tabora                          0.0966      0.062      1.550      0.121      -0.026       0.219\n",
      "region: tanga                           0.2128      0.056      3.798      0.000       0.103       0.323\n",
      "extraction_type_class: handpump         0.6775      0.056     12.018      0.000       0.567       0.788\n",
      "extraction_type_class: motorpump       -0.4767      0.070     -6.853      0.000      -0.613      -0.340\n",
      "extraction_type_class: other           -1.6051      0.058    -27.580      0.000      -1.719      -1.491\n",
      "extraction_type_class: rope pump        0.2351      0.128      1.838      0.066      -0.016       0.486\n",
      "extraction_type_class: submersible     -0.3187      0.054     -5.927      0.000      -0.424      -0.213\n",
      "extraction_type_class: wind-powered    -0.3832      0.230     -1.665      0.096      -0.834       0.068\n",
      "management_group: other                 0.5507      0.105      5.247      0.000       0.345       0.756\n",
      "management_group: parastatal           -0.1498      0.081     -1.857      0.063      -0.308       0.008\n",
      "management_group: unknown               0.3080      0.129      2.379      0.017       0.054       0.562\n",
      "management_group: user-group           -0.1326      0.046     -2.864      0.004      -0.223      -0.042\n",
      "payment_type: monthly                  -0.2344      0.063     -3.722      0.000      -0.358      -0.111\n",
      "payment_type: never pay                -1.0734      0.058    -18.450      0.000      -1.187      -0.959\n",
      "payment_type: on failure               -0.4576      0.069     -6.640      0.000      -0.593      -0.323\n",
      "payment_type: other                    -0.7704      0.104     -7.417      0.000      -0.974      -0.567\n",
      "payment_type: per bucket                0.0585      0.066      0.885      0.376      -0.071       0.188\n",
      "payment_type: unknown                  -1.1373      0.065    -17.450      0.000      -1.265      -1.010\n",
      "water_quality: fluoride                 1.0366      0.201      5.148      0.000       0.642       1.431\n",
      "water_quality: fluoride abandoned      -1.0281      0.580     -1.774      0.076      -2.164       0.108\n",
      "water_quality: milky                    0.9431      0.101      9.310      0.000       0.745       1.142\n",
      "water_quality: salty                   -0.1745      0.041     -4.279      0.000      -0.254      -0.095\n",
      "water_quality: unknown                 -0.5635      0.113     -4.997      0.000      -0.784      -0.342\n",
      "quantity: enough                        4.5927      0.086     53.679      0.000       4.425       4.760\n",
      "quantity: insufficient                  4.1909      0.087     48.167      0.000       4.020       4.361\n",
      "quantity: seasonal                      4.1857      0.094     44.653      0.000       4.002       4.369\n",
      "quantity: unknown                       3.4339      0.146     23.473      0.000       3.147       3.721\n",
      "source: lake                           -0.2819      0.128     -2.200      0.028      -0.533      -0.031\n",
      "source: machine dbh                     0.4908      0.072      6.844      0.000       0.350       0.631\n",
      "source: other                           1.8985      0.200      9.505      0.000       1.507       2.290\n",
      "source: rainwater harvesting            2.0388      0.096     21.247      0.000       1.851       2.227\n",
      "source: river                           1.2057      0.078     15.377      0.000       1.052       1.359\n",
      "source: shallow well                    0.4881      0.072      6.760      0.000       0.347       0.630\n",
      "source: spring                          1.6180      0.079     20.542      0.000       1.464       1.772\n",
      "source: unknown                         1.3539      0.313      4.331      0.000       0.741       1.967\n",
      "=======================================================================================================\n"
     ]
    },
    {
     "ename": "ValueError",
     "evalue": "Classification metrics can't handle a mix of multiclass and continuous-multioutput targets",
     "output_type": "error",
     "traceback": [
      "\u001b[1;31m---------------------------------------------------------------------------\u001b[0m",
      "\u001b[1;31mValueError\u001b[0m                                Traceback (most recent call last)",
      "Input \u001b[1;32mIn [237]\u001b[0m, in \u001b[0;36m<cell line: 17>\u001b[1;34m()\u001b[0m\n\u001b[0;32m     14\u001b[0m training_prediction \u001b[38;5;241m=\u001b[39m model\u001b[38;5;241m.\u001b[39mpredict(sm\u001b[38;5;241m.\u001b[39madd_constant(X_train))\u001b[38;5;66;03m#.idxmax(axis=1)\u001b[39;00m\n\u001b[0;32m     15\u001b[0m \u001b[38;5;66;03m# prediction = list(map(round, yhat))\u001b[39;00m\n\u001b[0;32m     16\u001b[0m \u001b[38;5;66;03m# confusion matrix\u001b[39;00m\n\u001b[1;32m---> 17\u001b[0m cm \u001b[38;5;241m=\u001b[39m \u001b[43mconfusion_matrix\u001b[49m\u001b[43m(\u001b[49m\u001b[43my_train\u001b[49m\u001b[43m,\u001b[49m\u001b[43m \u001b[49m\u001b[43mtraining_prediction\u001b[49m\u001b[43m)\u001b[49m\n\u001b[0;32m     18\u001b[0m \u001b[38;5;28mprint\u001b[39m (\u001b[38;5;124m\"\u001b[39m\u001b[38;5;124mConfusion Matrix : \u001b[39m\u001b[38;5;130;01m\\n\u001b[39;00m\u001b[38;5;124m\"\u001b[39m, cm)\n\u001b[0;32m     20\u001b[0m \u001b[38;5;66;03m# accuracy score of the model\u001b[39;00m\n",
      "File \u001b[1;32m~\\anaconda3\\lib\\site-packages\\sklearn\\metrics\\_classification.py:307\u001b[0m, in \u001b[0;36mconfusion_matrix\u001b[1;34m(y_true, y_pred, labels, sample_weight, normalize)\u001b[0m\n\u001b[0;32m    222\u001b[0m \u001b[38;5;28;01mdef\u001b[39;00m \u001b[38;5;21mconfusion_matrix\u001b[39m(\n\u001b[0;32m    223\u001b[0m     y_true, y_pred, \u001b[38;5;241m*\u001b[39m, labels\u001b[38;5;241m=\u001b[39m\u001b[38;5;28;01mNone\u001b[39;00m, sample_weight\u001b[38;5;241m=\u001b[39m\u001b[38;5;28;01mNone\u001b[39;00m, normalize\u001b[38;5;241m=\u001b[39m\u001b[38;5;28;01mNone\u001b[39;00m\n\u001b[0;32m    224\u001b[0m ):\n\u001b[0;32m    225\u001b[0m     \u001b[38;5;124;03m\"\"\"Compute confusion matrix to evaluate the accuracy of a classification.\u001b[39;00m\n\u001b[0;32m    226\u001b[0m \n\u001b[0;32m    227\u001b[0m \u001b[38;5;124;03m    By definition a confusion matrix :math:`C` is such that :math:`C_{i, j}`\u001b[39;00m\n\u001b[1;32m   (...)\u001b[0m\n\u001b[0;32m    305\u001b[0m \u001b[38;5;124;03m    (0, 2, 1, 1)\u001b[39;00m\n\u001b[0;32m    306\u001b[0m \u001b[38;5;124;03m    \"\"\"\u001b[39;00m\n\u001b[1;32m--> 307\u001b[0m     y_type, y_true, y_pred \u001b[38;5;241m=\u001b[39m \u001b[43m_check_targets\u001b[49m\u001b[43m(\u001b[49m\u001b[43my_true\u001b[49m\u001b[43m,\u001b[49m\u001b[43m \u001b[49m\u001b[43my_pred\u001b[49m\u001b[43m)\u001b[49m\n\u001b[0;32m    308\u001b[0m     \u001b[38;5;28;01mif\u001b[39;00m y_type \u001b[38;5;129;01mnot\u001b[39;00m \u001b[38;5;129;01min\u001b[39;00m (\u001b[38;5;124m\"\u001b[39m\u001b[38;5;124mbinary\u001b[39m\u001b[38;5;124m\"\u001b[39m, \u001b[38;5;124m\"\u001b[39m\u001b[38;5;124mmulticlass\u001b[39m\u001b[38;5;124m\"\u001b[39m):\n\u001b[0;32m    309\u001b[0m         \u001b[38;5;28;01mraise\u001b[39;00m \u001b[38;5;167;01mValueError\u001b[39;00m(\u001b[38;5;124m\"\u001b[39m\u001b[38;5;132;01m%s\u001b[39;00m\u001b[38;5;124m is not supported\u001b[39m\u001b[38;5;124m\"\u001b[39m \u001b[38;5;241m%\u001b[39m y_type)\n",
      "File \u001b[1;32m~\\anaconda3\\lib\\site-packages\\sklearn\\metrics\\_classification.py:93\u001b[0m, in \u001b[0;36m_check_targets\u001b[1;34m(y_true, y_pred)\u001b[0m\n\u001b[0;32m     90\u001b[0m     y_type \u001b[38;5;241m=\u001b[39m {\u001b[38;5;124m\"\u001b[39m\u001b[38;5;124mmulticlass\u001b[39m\u001b[38;5;124m\"\u001b[39m}\n\u001b[0;32m     92\u001b[0m \u001b[38;5;28;01mif\u001b[39;00m \u001b[38;5;28mlen\u001b[39m(y_type) \u001b[38;5;241m>\u001b[39m \u001b[38;5;241m1\u001b[39m:\n\u001b[1;32m---> 93\u001b[0m     \u001b[38;5;28;01mraise\u001b[39;00m \u001b[38;5;167;01mValueError\u001b[39;00m(\n\u001b[0;32m     94\u001b[0m         \u001b[38;5;124m\"\u001b[39m\u001b[38;5;124mClassification metrics can\u001b[39m\u001b[38;5;124m'\u001b[39m\u001b[38;5;124mt handle a mix of \u001b[39m\u001b[38;5;132;01m{0}\u001b[39;00m\u001b[38;5;124m and \u001b[39m\u001b[38;5;132;01m{1}\u001b[39;00m\u001b[38;5;124m targets\u001b[39m\u001b[38;5;124m\"\u001b[39m\u001b[38;5;241m.\u001b[39mformat(\n\u001b[0;32m     95\u001b[0m             type_true, type_pred\n\u001b[0;32m     96\u001b[0m         )\n\u001b[0;32m     97\u001b[0m     )\n\u001b[0;32m     99\u001b[0m \u001b[38;5;66;03m# We can't have more than one value on y_type => The set is no more needed\u001b[39;00m\n\u001b[0;32m    100\u001b[0m y_type \u001b[38;5;241m=\u001b[39m y_type\u001b[38;5;241m.\u001b[39mpop()\n",
      "\u001b[1;31mValueError\u001b[0m: Classification metrics can't handle a mix of multiclass and continuous-multioutput targets"
     ]
    }
   ],
   "source": [
    "import statsmodels.api as sm\n",
    "from sklearn.metrics import (confusion_matrix, accuracy_score)\n",
    "model = sm.MNLogit(y_train,sm.add_constant(X_train)).fit(method='bfgs', maxiter=2000) #.fit_regularized(method='l1', maxiter=2000, alpha=5.1)\n",
    "# model = sm.MNLogit(y_train, sm.add_constant(X_train)).fit(maxiter=1000)\n",
    "print(model.summary())\n",
    "training_prediction = model.predict(sm.add_constant(X_train)).idxmax(axis=1)\n",
    "# prediction = list(map(round, yhat))\n",
    "# confusion matrix\n",
    "cm = confusion_matrix(y_train, training_prediction)\n",
    "print (\"Confusion Matrix : \\n\", cm)\n",
    "\n",
    "# accuracy score of the model\n",
    "print('Training accuracy = ', accuracy_score(y_train, training_prediction))\n",
    "\n",
    "# prediction = model.predict(sm.add_constant(test.df)).idxmax(axis=1)\n",
    "predicted_values = pd.DataFrame(model.predict(sm.add_constant(test.df)).idxmax(axis=1), index=test.df.index, columns=[0])\n",
    "predicted_y = decode_dep_var(predicted_values)\n",
    "prediction_output = concat_id_and_predictions(test, predicted_y)\n",
    "prediction_output.to_csv('pointon_predictions_Logistic.csv', index=False)\n",
    "prediction_output # region:\n",
    "#\n",
    "# 'water_quality: fluoride abandoned', 'payment_type: per bucket', 'extraction_type_class: rope pump'"
   ]
  },
  {
   "cell_type": "code",
   "execution_count": 357,
   "metadata": {
    "collapsed": false
   },
   "outputs": [
    {
     "name": "stdout",
     "output_type": "stream",
     "text": [
      "The final kfold confusion matrix: \n",
      " [[0.56592765 0.19719953 0.23687281]\n",
      " [0.10968495 0.62077013 0.26954492]\n",
      " [0.13636364 0.29020979 0.57342657]]\n",
      "The standard confusion matrix: \n",
      " [[0.60730795 0.0046225  0.38806956]\n",
      " [0.15169195 0.01983664 0.82847141]\n",
      " [0.09177314 0.00358367 0.90464319]]\n",
      "List of logit reg possible accuracies using under-sampling: ['0.59', '0.62', '0.59', '0.61', '0.59']\n",
      "Mean accuracy: 60.03% vs the unrestricted model: 69.62%\n",
      "List of MLP possible accuracies using under-sampling: ['0.65', '0.66', '0.66', '0.66', '0.63']\n",
      "Mean accuracy: 65.11% vs the unrestricted model: 71.76%\n",
      "\n",
      "The final kfold confusion matrix: \n",
      " [[0.59894048 0.18214397 0.21891555]\n",
      " [0.12201964 0.63970703 0.23827334]\n",
      " [0.10628019 0.30839956 0.58532024]]\n",
      "The standard confusion matrix: \n",
      " [[0.60730795 0.0046225  0.38806956]\n",
      " [0.15169195 0.01983664 0.82847141]\n",
      " [0.09177314 0.00358367 0.90464319]]\n",
      "List of logit reg possible accuracies using over-sampling: ['0.61', '0.61', '0.61', '0.62', '0.61']\n",
      "Mean accuracy: 61.1% vs the unrestricted model: 69.62%\n",
      "List of MLP possible accuracies using over-sampling: ['0.67', '0.66', '0.66', '0.67', '0.66']\n",
      "Mean accuracy: 66.14% vs the unrestricted model: 71.73%\n",
      "\n"
     ]
    },
    {
     "data": {
      "image/png": "[encoded data removed]",
      "text/plain": [
       "<Figure size 432x288 with 2 Axes>"
      ]
     },
     "metadata": {
      "needs_background": "light"
     },
     "output_type": "display_data"
    },
    {
     "data": {
      "image/png": "[encoded data removed]",
      "text/plain": [
       "<Figure size 432x288 with 2 Axes>"
      ]
     },
     "metadata": {
      "needs_background": "light"
     },
     "output_type": "display_data"
    },
    {
     "data": {
      "image/png": "[encoded data removed]",
      "text/plain": [
       "<Figure size 432x288 with 2 Axes>"
      ]
     },
     "metadata": {
      "needs_background": "light"
     },
     "output_type": "display_data"
    },
    {
     "data": {
      "image/png": "[encoded data removed]",
      "text/plain": [
       "<Figure size 432x288 with 2 Axes>"
      ]
     },
     "metadata": {
      "needs_background": "light"
     },
     "output_type": "display_data"
    }
   ],
   "source": [
    "# Getting an overall test-train split\n",
    "from sklearn.model_selection import train_test_split\n",
    "X_train_all, X_test_all, y_train_all, y_test_all = train_test_split(X_train, y_train,\n",
    "                                                    stratify=y_train,\n",
    "                                                    test_size=0.2)\n",
    "# Dealing with the imbalanced classes\n",
    "from imblearn.under_sampling import RandomUnderSampler\n",
    "from imblearn.over_sampling import RandomOverSampler\n",
    "from sklearn.model_selection import StratifiedKFold\n",
    "from sklearn.metrics import ConfusionMatrixDisplay\n",
    "from statistics import mean\n",
    "from sklearn.metrics import f1_score\n",
    "import inspect\n",
    "for sampler in [RandomUnderSampler, RandomOverSampler]:\n",
    "    sampler_type = inspect.getmembers(sampler, lambda a:not(inspect.isroutine(a)))[-1][-1]\n",
    "    # Either under- or over- sample the data\n",
    "    if sampler == RandomUnderSampler:\n",
    "        rs = sampler(replacement=False, random_state=0)\n",
    "    else:\n",
    "        rs = RandomOverSampler(random_state=0)\n",
    "    X_resampled, y_resampled = rs.fit_resample(X_train, y_train)\n",
    "\n",
    "    # Kfold sampling but maintaining the equal class balance\n",
    "    f1_scores = []\n",
    "    mlp_f1_scores = []\n",
    "    skf = StratifiedKFold(n_splits=5, shuffle=False)\n",
    "    for train_index, test_index in skf.split(X_resampled, y_resampled):\n",
    "        X_train_kfold, X_test_kfold = X_resampled.iloc[train_index], X_resampled.iloc[test_index]\n",
    "        y_train_kfold, y_test_kfold = y_resampled.iloc[train_index], y_resampled.iloc[test_index]\n",
    "\n",
    "        # Applying the logistic regression model\n",
    "        lr_model = sm.MNLogit(y_train_kfold,sm.add_constant(X_train_kfold)).fit(method='bfgs', maxiter=2000, disp=0) #.fit_regularized(method='l1', maxiter=2000, alpha=5.1)\n",
    "        lr_prediction = lr_model.predict(sm.add_constant(X_test_kfold)).idxmax(axis=1)\n",
    "        f1_scores.append(f1_score(y_test_kfold, lr_prediction, average='weighted'))\n",
    "\n",
    "        # Applying the MLP model\n",
    "        mlp_model = MLPClassifier(hidden_layer_sizes=(100,), max_iter=500, alpha=0.5) # Don't want to be too simple but don't want to overfit - (93inputs + 3outputs)*2/3 as per https://medium.com/geekculture/introduction-to-neural-network-2f8b8221fbd3\n",
    "        mlp_model.fit(X_train_kfold, y_train_kfold)\n",
    "        mlp_prediction = mlp_model.predict(X_test_kfold)\n",
    "        mlp_f1_scores.append(f1_score(y_test_kfold, mlp_prediction, average='weighted'))\n",
    "\n",
    "    # print the final confusion matrix\n",
    "    print('The final kfold confusion matrix: \\n', confusion_matrix(y_test_kfold, lr_prediction, normalize='true'))\n",
    "    cm = confusion_matrix(y_test_kfold, lr_prediction, normalize='true')\n",
    "    disp = ConfusionMatrixDisplay(confusion_matrix=cm, display_labels=['non functional', 'semi functional', 'functional'])\n",
    "    disp.ax_.get_images()[0].set_clim(0, 1) # set scale to be [0,1]\n",
    "    disp.plot()\n",
    "    plt.savefig(f'Output/confusion_matrix_kfold_{sampler_type}.png', dpi=1200)\n",
    "\n",
    "    # Applying the models to the full dataset with no under/over sampling and a simple 80:20 train/test split:\n",
    "    lr_model = sm.MNLogit(y_train_all,sm.add_constant(X_train_all)).fit(method='bfgs', maxiter=2000, disp=0) #.fit_regularized(method='l1', maxiter=2000, alpha=5.1)\n",
    "    lr_prediction = lr_model.predict(sm.add_constant(X_test_all)).idxmax(axis=1)\n",
    "    print('The standard confusion matrix: \\n', confusion_matrix(y_test_all, lr_prediction, normalize='true'))\n",
    "    cm = confusion_matrix(y_test_all, lr_prediction, normalize='true')\n",
    "    disp.ax_.get_images()[0].set_clim(0, 1) # set scale to be [0,1]\n",
    "    disp = ConfusionMatrixDisplay(confusion_matrix=cm, display_labels=['non functional', 'functional needs repair', 'functional'])\n",
    "    disp.plot()\n",
    "    plt.savefig(f'Output/confusion_matrix_standard_{sampler_type}.png', dpi=1200)\n",
    "\n",
    "    mlp_model = MLPClassifier(hidden_layer_sizes=(100,), max_iter=500, alpha=0.5) # Don't want to be too simple but don't want to overfit - (93inputs + 3outputs)*2/3 as per https://medium.com/geekculture/introduction-to-neural-network-2f8b8221fbd3\n",
    "    mlp_model.fit(X_train_all, y_train_all)\n",
    "    mlp_prediction = mlp_model.predict(X_test_all)\n",
    "\n",
    "    # Summarise and print the output:\n",
    "    print(f'List of logit reg possible accuracies using {sampler_type}:', [\"%.2f\" % num for num in f1_scores])\n",
    "    print(f'Mean accuracy: {round(mean(f1_scores)*100, 2)}% vs the unrestricted model: {round(f1_score(y_test_all, lr_prediction, average=\"weighted\")*100, 2)}%')\n",
    "    print(f'List of MLP possible accuracies using {sampler_type}:', [\"%.2f\" % num for num in mlp_f1_scores])\n",
    "    print(f'Mean accuracy: {round(mean(mlp_f1_scores)*100, 2)}% vs the unrestricted model: {round(f1_score(y_test_all, mlp_prediction, average=\"weighted\")*100, 2)}%\\n')"
   ]
  },
  {
   "cell_type": "code",
   "execution_count": 240,
   "metadata": {
    "collapsed": false
   },
   "outputs": [
    {
     "ename": "ValueError",
     "evalue": "y should be a 1d array, got an array of shape (59087, 3) instead.",
     "output_type": "error",
     "traceback": [
      "\u001b[1;31m---------------------------------------------------------------------------\u001b[0m",
      "\u001b[1;31mValueError\u001b[0m                                Traceback (most recent call last)",
      "Input \u001b[1;32mIn [240]\u001b[0m, in \u001b[0;36m<cell line: 8>\u001b[1;34m()\u001b[0m\n\u001b[0;32m      5\u001b[0m label_binarizer \u001b[38;5;241m=\u001b[39m LabelBinarizer()\u001b[38;5;241m.\u001b[39mfit(y_train)\n\u001b[0;32m      6\u001b[0m y_onehot_train \u001b[38;5;241m=\u001b[39m label_binarizer\u001b[38;5;241m.\u001b[39mtransform(y_train)\n\u001b[1;32m----> 8\u001b[0m \u001b[43mRocCurveDisplay\u001b[49m\u001b[38;5;241;43m.\u001b[39;49m\u001b[43mfrom_predictions\u001b[49m\u001b[43m(\u001b[49m\n\u001b[0;32m      9\u001b[0m \u001b[43m    \u001b[49m\u001b[43my_onehot_train\u001b[49m\u001b[43m[\u001b[49m\u001b[43m:\u001b[49m\u001b[43m,\u001b[49m\u001b[43m \u001b[49m\u001b[38;5;241;43m0\u001b[39;49m\u001b[43m]\u001b[49m\u001b[43m,\u001b[49m\n\u001b[0;32m     10\u001b[0m \u001b[43m    \u001b[49m\u001b[43mtraining_prediction\u001b[49m\u001b[43m,\u001b[49m\n\u001b[0;32m     11\u001b[0m \u001b[43m    \u001b[49m\u001b[43mname\u001b[49m\u001b[38;5;241;43m=\u001b[39;49m\u001b[38;5;124;43mf\u001b[39;49m\u001b[38;5;124;43m\"\u001b[39;49m\u001b[38;5;124;43mOne vs the rest\u001b[39;49m\u001b[38;5;124;43m\"\u001b[39;49m\u001b[43m,\u001b[49m\n\u001b[0;32m     12\u001b[0m \u001b[43m    \u001b[49m\u001b[43mcolor\u001b[49m\u001b[38;5;241;43m=\u001b[39;49m\u001b[38;5;124;43m\"\u001b[39;49m\u001b[38;5;124;43mdarkorange\u001b[39;49m\u001b[38;5;124;43m\"\u001b[39;49m\u001b[43m,\u001b[49m\n\u001b[0;32m     13\u001b[0m \u001b[43m)\u001b[49m\n\u001b[0;32m     14\u001b[0m plt\u001b[38;5;241m.\u001b[39mplot([\u001b[38;5;241m0\u001b[39m, \u001b[38;5;241m1\u001b[39m], [\u001b[38;5;241m0\u001b[39m, \u001b[38;5;241m1\u001b[39m], \u001b[38;5;124m\"\u001b[39m\u001b[38;5;124mk--\u001b[39m\u001b[38;5;124m\"\u001b[39m, label\u001b[38;5;241m=\u001b[39m\u001b[38;5;124m\"\u001b[39m\u001b[38;5;124mchance level (AUC = 0.5)\u001b[39m\u001b[38;5;124m\"\u001b[39m)\n\u001b[0;32m     15\u001b[0m plt\u001b[38;5;241m.\u001b[39maxis(\u001b[38;5;124m\"\u001b[39m\u001b[38;5;124msquare\u001b[39m\u001b[38;5;124m\"\u001b[39m)\n",
      "File \u001b[1;32m~\\anaconda3\\lib\\site-packages\\sklearn\\metrics\\_plot\\roc_curve.py:333\u001b[0m, in \u001b[0;36mRocCurveDisplay.from_predictions\u001b[1;34m(cls, y_true, y_pred, sample_weight, drop_intermediate, pos_label, name, ax, **kwargs)\u001b[0m\n\u001b[0;32m    262\u001b[0m \u001b[38;5;124;03m\"\"\"Plot ROC curve given the true and predicted values.\u001b[39;00m\n\u001b[0;32m    263\u001b[0m \n\u001b[0;32m    264\u001b[0m \u001b[38;5;124;03mRead more in the :ref:`User Guide <visualizations>`.\u001b[39;00m\n\u001b[1;32m   (...)\u001b[0m\n\u001b[0;32m    329\u001b[0m \u001b[38;5;124;03m>>> plt.show()\u001b[39;00m\n\u001b[0;32m    330\u001b[0m \u001b[38;5;124;03m\"\"\"\u001b[39;00m\n\u001b[0;32m    331\u001b[0m check_matplotlib_support(\u001b[38;5;124mf\u001b[39m\u001b[38;5;124m\"\u001b[39m\u001b[38;5;132;01m{\u001b[39;00m\u001b[38;5;28mcls\u001b[39m\u001b[38;5;241m.\u001b[39m\u001b[38;5;18m__name__\u001b[39m\u001b[38;5;132;01m}\u001b[39;00m\u001b[38;5;124m.from_predictions\u001b[39m\u001b[38;5;124m\"\u001b[39m)\n\u001b[1;32m--> 333\u001b[0m fpr, tpr, _ \u001b[38;5;241m=\u001b[39m \u001b[43mroc_curve\u001b[49m\u001b[43m(\u001b[49m\n\u001b[0;32m    334\u001b[0m \u001b[43m    \u001b[49m\u001b[43my_true\u001b[49m\u001b[43m,\u001b[49m\n\u001b[0;32m    335\u001b[0m \u001b[43m    \u001b[49m\u001b[43my_pred\u001b[49m\u001b[43m,\u001b[49m\n\u001b[0;32m    336\u001b[0m \u001b[43m    \u001b[49m\u001b[43mpos_label\u001b[49m\u001b[38;5;241;43m=\u001b[39;49m\u001b[43mpos_label\u001b[49m\u001b[43m,\u001b[49m\n\u001b[0;32m    337\u001b[0m \u001b[43m    \u001b[49m\u001b[43msample_weight\u001b[49m\u001b[38;5;241;43m=\u001b[39;49m\u001b[43msample_weight\u001b[49m\u001b[43m,\u001b[49m\n\u001b[0;32m    338\u001b[0m \u001b[43m    \u001b[49m\u001b[43mdrop_intermediate\u001b[49m\u001b[38;5;241;43m=\u001b[39;49m\u001b[43mdrop_intermediate\u001b[49m\u001b[43m,\u001b[49m\n\u001b[0;32m    339\u001b[0m \u001b[43m\u001b[49m\u001b[43m)\u001b[49m\n\u001b[0;32m    340\u001b[0m roc_auc \u001b[38;5;241m=\u001b[39m auc(fpr, tpr)\n\u001b[0;32m    342\u001b[0m name \u001b[38;5;241m=\u001b[39m \u001b[38;5;124m\"\u001b[39m\u001b[38;5;124mClassifier\u001b[39m\u001b[38;5;124m\"\u001b[39m \u001b[38;5;28;01mif\u001b[39;00m name \u001b[38;5;129;01mis\u001b[39;00m \u001b[38;5;28;01mNone\u001b[39;00m \u001b[38;5;28;01melse\u001b[39;00m name\n",
      "File \u001b[1;32m~\\anaconda3\\lib\\site-packages\\sklearn\\metrics\\_ranking.py:962\u001b[0m, in \u001b[0;36mroc_curve\u001b[1;34m(y_true, y_score, pos_label, sample_weight, drop_intermediate)\u001b[0m\n\u001b[0;32m    873\u001b[0m \u001b[38;5;28;01mdef\u001b[39;00m \u001b[38;5;21mroc_curve\u001b[39m(\n\u001b[0;32m    874\u001b[0m     y_true, y_score, \u001b[38;5;241m*\u001b[39m, pos_label\u001b[38;5;241m=\u001b[39m\u001b[38;5;28;01mNone\u001b[39;00m, sample_weight\u001b[38;5;241m=\u001b[39m\u001b[38;5;28;01mNone\u001b[39;00m, drop_intermediate\u001b[38;5;241m=\u001b[39m\u001b[38;5;28;01mTrue\u001b[39;00m\n\u001b[0;32m    875\u001b[0m ):\n\u001b[0;32m    876\u001b[0m     \u001b[38;5;124;03m\"\"\"Compute Receiver operating characteristic (ROC).\u001b[39;00m\n\u001b[0;32m    877\u001b[0m \n\u001b[0;32m    878\u001b[0m \u001b[38;5;124;03m    Note: this implementation is restricted to the binary classification task.\u001b[39;00m\n\u001b[1;32m   (...)\u001b[0m\n\u001b[0;32m    960\u001b[0m \n\u001b[0;32m    961\u001b[0m \u001b[38;5;124;03m    \"\"\"\u001b[39;00m\n\u001b[1;32m--> 962\u001b[0m     fps, tps, thresholds \u001b[38;5;241m=\u001b[39m \u001b[43m_binary_clf_curve\u001b[49m\u001b[43m(\u001b[49m\n\u001b[0;32m    963\u001b[0m \u001b[43m        \u001b[49m\u001b[43my_true\u001b[49m\u001b[43m,\u001b[49m\u001b[43m \u001b[49m\u001b[43my_score\u001b[49m\u001b[43m,\u001b[49m\u001b[43m \u001b[49m\u001b[43mpos_label\u001b[49m\u001b[38;5;241;43m=\u001b[39;49m\u001b[43mpos_label\u001b[49m\u001b[43m,\u001b[49m\u001b[43m \u001b[49m\u001b[43msample_weight\u001b[49m\u001b[38;5;241;43m=\u001b[39;49m\u001b[43msample_weight\u001b[49m\n\u001b[0;32m    964\u001b[0m \u001b[43m    \u001b[49m\u001b[43m)\u001b[49m\n\u001b[0;32m    966\u001b[0m     \u001b[38;5;66;03m# Attempt to drop thresholds corresponding to points in between and\u001b[39;00m\n\u001b[0;32m    967\u001b[0m     \u001b[38;5;66;03m# collinear with other points. These are always suboptimal and do not\u001b[39;00m\n\u001b[0;32m    968\u001b[0m     \u001b[38;5;66;03m# appear on a plotted ROC curve (and thus do not affect the AUC).\u001b[39;00m\n\u001b[1;32m   (...)\u001b[0m\n\u001b[0;32m    973\u001b[0m     \u001b[38;5;66;03m# but does not drop more complicated cases like fps = [1, 3, 7],\u001b[39;00m\n\u001b[0;32m    974\u001b[0m     \u001b[38;5;66;03m# tps = [1, 2, 4]; there is no harm in keeping too many thresholds.\u001b[39;00m\n\u001b[0;32m    975\u001b[0m     \u001b[38;5;28;01mif\u001b[39;00m drop_intermediate \u001b[38;5;129;01mand\u001b[39;00m \u001b[38;5;28mlen\u001b[39m(fps) \u001b[38;5;241m>\u001b[39m \u001b[38;5;241m2\u001b[39m:\n",
      "File \u001b[1;32m~\\anaconda3\\lib\\site-packages\\sklearn\\metrics\\_ranking.py:735\u001b[0m, in \u001b[0;36m_binary_clf_curve\u001b[1;34m(y_true, y_score, pos_label, sample_weight)\u001b[0m\n\u001b[0;32m    733\u001b[0m check_consistent_length(y_true, y_score, sample_weight)\n\u001b[0;32m    734\u001b[0m y_true \u001b[38;5;241m=\u001b[39m column_or_1d(y_true)\n\u001b[1;32m--> 735\u001b[0m y_score \u001b[38;5;241m=\u001b[39m \u001b[43mcolumn_or_1d\u001b[49m\u001b[43m(\u001b[49m\u001b[43my_score\u001b[49m\u001b[43m)\u001b[49m\n\u001b[0;32m    736\u001b[0m assert_all_finite(y_true)\n\u001b[0;32m    737\u001b[0m assert_all_finite(y_score)\n",
      "File \u001b[1;32m~\\anaconda3\\lib\\site-packages\\sklearn\\utils\\validation.py:1038\u001b[0m, in \u001b[0;36mcolumn_or_1d\u001b[1;34m(y, warn)\u001b[0m\n\u001b[0;32m   1029\u001b[0m         warnings\u001b[38;5;241m.\u001b[39mwarn(\n\u001b[0;32m   1030\u001b[0m             \u001b[38;5;124m\"\u001b[39m\u001b[38;5;124mA column-vector y was passed when a 1d array was\u001b[39m\u001b[38;5;124m\"\u001b[39m\n\u001b[0;32m   1031\u001b[0m             \u001b[38;5;124m\"\u001b[39m\u001b[38;5;124m expected. Please change the shape of y to \u001b[39m\u001b[38;5;124m\"\u001b[39m\n\u001b[1;32m   (...)\u001b[0m\n\u001b[0;32m   1034\u001b[0m             stacklevel\u001b[38;5;241m=\u001b[39m\u001b[38;5;241m2\u001b[39m,\n\u001b[0;32m   1035\u001b[0m         )\n\u001b[0;32m   1036\u001b[0m     \u001b[38;5;28;01mreturn\u001b[39;00m np\u001b[38;5;241m.\u001b[39mravel(y)\n\u001b[1;32m-> 1038\u001b[0m \u001b[38;5;28;01mraise\u001b[39;00m \u001b[38;5;167;01mValueError\u001b[39;00m(\n\u001b[0;32m   1039\u001b[0m     \u001b[38;5;124m\"\u001b[39m\u001b[38;5;124my should be a 1d array, got an array of shape \u001b[39m\u001b[38;5;132;01m{}\u001b[39;00m\u001b[38;5;124m instead.\u001b[39m\u001b[38;5;124m\"\u001b[39m\u001b[38;5;241m.\u001b[39mformat(shape)\n\u001b[0;32m   1040\u001b[0m )\n",
      "\u001b[1;31mValueError\u001b[0m: y should be a 1d array, got an array of shape (59087, 3) instead."
     ]
    }
   ],
   "source": [
    "import matplotlib.pyplot as plt\n",
    "from sklearn.metrics import RocCurveDisplay\n",
    "from sklearn.preprocessing import LabelBinarizer\n",
    "\n",
    "label_binarizer = LabelBinarizer().fit(y_train)\n",
    "y_onehot_train = label_binarizer.transform(y_train)\n",
    "\n",
    "RocCurveDisplay.from_predictions(\n",
    "    y_onehot_train[:, 0],\n",
    "    training_prediction,\n",
    "    name=f\"One vs the rest\",\n",
    ")\n",
    "plt.plot([0, 1], [0, 1], \"k--\", label=\"chance level (AUC = 0.5)\")\n",
    "plt.axis(\"square\")\n",
    "plt.xlabel(\"False Positive Rate\")\n",
    "plt.ylabel(\"True Positive Rate\")\n",
    "plt.title(\"One-vs-Rest ROC curves:\\nVirginica vs (Setosa & Versicolor)\")\n",
    "plt.legend()\n",
    "plt.show()\n",
    "\n",
    "# fig, ax = plt.subplots(figsize=(6, 6))\n",
    "# from itertools import cycle\n",
    "# n_classes = 3\n",
    "# colors = cycle([\"aqua\", \"darkorange\", \"cornflowerblue\"])\n",
    "# for class_id, color in zip(range(3), colors):\n",
    "#     RocCurveDisplay.from_predictions(\n",
    "#         y_onehot_train[:, class_id],\n",
    "#         training_prediction,\n",
    "#         name=f\"ROC curve for {class_id}\",\n",
    "#         color=color,\n",
    "#         ax=ax,\n",
    "#     )\n",
    "#\n",
    "# plt.plot([0, 1], [0, 1], \"k--\", label=\"ROC curve for chance level (AUC = 0.5)\")\n",
    "# plt.axis(\"square\")\n",
    "# plt.xlabel(\"False Positive Rate\")\n",
    "# plt.ylabel(\"True Positive Rate\")\n",
    "# plt.title(\"Extension of Receiver Operating Characteristic\\nto One-vs-Rest multiclass\")\n",
    "# plt.legend()\n",
    "# plt.show()"
   ]
  },
  {
   "cell_type": "code",
   "execution_count": 9,
   "metadata": {
    "collapsed": false
   },
   "outputs": [
    {
     "data": {
      "text/plain": [
       "array([2, 0, 2, ..., 2, 2, 0], dtype=int64)"
      ]
     },
     "execution_count": 9,
     "metadata": {},
     "output_type": "execute_result"
    }
   ],
   "source": [
    "from sklearn.ensemble import RandomForestClassifier\n",
    "model = RandomForestClassifier()\n",
    "model.fit(X_train, y_train)\n",
    "predicted_y = model.predict(test.df)\n",
    "predicted_y"
   ]
  },
  {
   "cell_type": "code",
   "execution_count": 11,
   "metadata": {
    "collapsed": false
   },
   "outputs": [],
   "source": [
    "def decode_dep_var(model_predictions):\n",
    "    # Do we want to do these?\n",
    "    model_predictions = pd.DataFrame(model_predictions)\n",
    "    model_predictions['status_group'] = model_predictions[0].replace(0, \"non functional\")\n",
    "    model_predictions['status_group'].replace(1, \"functional needs repair\", inplace=True)\n",
    "    model_predictions['status_group'].replace(2, \"functional\", inplace=True)\n",
    "    model_predictions.drop(columns=[0], inplace=True)\n",
    "    return model_predictions\n",
    "\n",
    "def concat_id_and_predictions(test_object, predictions):\n",
    "    prediction_output = pd.DataFrame()\n",
    "    prediction_output['id'] = test_object.ids\n",
    "    prediction_output['status_group'] = predictions\n",
    "    return prediction_output"
   ]
  },
  {
   "cell_type": "code",
   "execution_count": 12,
   "metadata": {
    "collapsed": false
   },
   "outputs": [
    {
     "data": {
      "text/html": [
       "<div>\n",
       "<style scoped>\n",
       "    .dataframe tbody tr th:only-of-type {\n",
       "        vertical-align: middle;\n",
       "    }\n",
       "\n",
       "    .dataframe tbody tr th {\n",
       "        vertical-align: top;\n",
       "    }\n",
       "\n",
       "    .dataframe thead th {\n",
       "        text-align: right;\n",
       "    }\n",
       "</style>\n",
       "<table border=\"1\" class=\"dataframe\">\n",
       "  <thead>\n",
       "    <tr style=\"text-align: right;\">\n",
       "      <th></th>\n",
       "      <th>id</th>\n",
       "      <th>status_group</th>\n",
       "    </tr>\n",
       "  </thead>\n",
       "  <tbody>\n",
       "    <tr>\n",
       "      <th>0</th>\n",
       "      <td>50785</td>\n",
       "      <td>functional</td>\n",
       "    </tr>\n",
       "    <tr>\n",
       "      <th>1</th>\n",
       "      <td>51630</td>\n",
       "      <td>non functional</td>\n",
       "    </tr>\n",
       "    <tr>\n",
       "      <th>2</th>\n",
       "      <td>17168</td>\n",
       "      <td>functional</td>\n",
       "    </tr>\n",
       "    <tr>\n",
       "      <th>3</th>\n",
       "      <td>45559</td>\n",
       "      <td>non functional</td>\n",
       "    </tr>\n",
       "    <tr>\n",
       "      <th>4</th>\n",
       "      <td>49871</td>\n",
       "      <td>functional</td>\n",
       "    </tr>\n",
       "    <tr>\n",
       "      <th>...</th>\n",
       "      <td>...</td>\n",
       "      <td>...</td>\n",
       "    </tr>\n",
       "    <tr>\n",
       "      <th>14845</th>\n",
       "      <td>39307</td>\n",
       "      <td>non functional</td>\n",
       "    </tr>\n",
       "    <tr>\n",
       "      <th>14846</th>\n",
       "      <td>18990</td>\n",
       "      <td>functional</td>\n",
       "    </tr>\n",
       "    <tr>\n",
       "      <th>14847</th>\n",
       "      <td>28749</td>\n",
       "      <td>functional</td>\n",
       "    </tr>\n",
       "    <tr>\n",
       "      <th>14848</th>\n",
       "      <td>33492</td>\n",
       "      <td>functional</td>\n",
       "    </tr>\n",
       "    <tr>\n",
       "      <th>14849</th>\n",
       "      <td>68707</td>\n",
       "      <td>non functional</td>\n",
       "    </tr>\n",
       "  </tbody>\n",
       "</table>\n",
       "<p>14850 rows × 2 columns</p>\n",
       "</div>"
      ],
      "text/plain": [
       "          id    status_group\n",
       "0      50785      functional\n",
       "1      51630  non functional\n",
       "2      17168      functional\n",
       "3      45559  non functional\n",
       "4      49871      functional\n",
       "...      ...             ...\n",
       "14845  39307  non functional\n",
       "14846  18990      functional\n",
       "14847  28749      functional\n",
       "14848  33492      functional\n",
       "14849  68707  non functional\n",
       "\n",
       "[14850 rows x 2 columns]"
      ]
     },
     "execution_count": 12,
     "metadata": {},
     "output_type": "execute_result"
    }
   ],
   "source": [
    "predicted_y = decode_dep_var(predicted_y)\n",
    "prediction_output = concat_id_and_predictions(test, predicted_y)\n",
    "prediction_output.to_csv('pointon_predictions_RF.csv', index=False)\n",
    "prediction_output"
   ]
  },
  {
   "cell_type": "code",
   "execution_count": 194,
   "metadata": {
    "collapsed": false
   },
   "outputs": [],
   "source": [
    "# Regression imputation\n",
    "# for feature in ['amount_tsh', 'population', 'gps_height']: # any others??\n",
    "#     training.regression_imputation(feature)"
   ]
  },
  {
   "cell_type": "code",
   "execution_count": 112,
   "metadata": {
    "collapsed": false
   },
   "outputs": [
    {
     "data": {
      "text/plain": [
       "true       38703\n",
       "false      17341\n",
       "unknown     3043\n",
       "Name: permit, dtype: int64"
      ]
     },
     "execution_count": 112,
     "metadata": {},
     "output_type": "execute_result"
    }
   ],
   "source": [
    "training_df_for_test_imputations['permit'].value_counts()"
   ]
  },
  {
   "cell_type": "code",
   "execution_count": 111,
   "metadata": {
    "collapsed": false
   },
   "outputs": [
    {
     "data": {
      "text/plain": [
       "<Axes: xlabel='permit', ylabel='status_group'>"
      ]
     },
     "execution_count": 111,
     "metadata": {},
     "output_type": "execute_result"
    },
    {
     "data": {
      "image/png": "[encoded data removed]",
      "text/plain": [
       "<Figure size 432x288 with 1 Axes>"
      ]
     },
     "metadata": {
      "needs_background": "light"
     },
     "output_type": "display_data"
    }
   ],
   "source": [
    "sns.histplot(data=training_df_for_test_imputations, x='permit', y='status_group')\n",
    "# df['longitude_new'] = df['longitude'].fillna(df.groupby(['region', 'ward'])['longitude'].transform('mean'))"
   ]
  },
  {
   "cell_type": "code",
   "execution_count": 19,
   "metadata": {
    "collapsed": false
   },
   "outputs": [],
   "source": [
    "# sns.histplot(data=df.loc[df['extraction_type_class'].isin(['other - mkulima/shinyanga', 'climax', 'walimi', 'other - play pump', 'cemo'])], x='extraction_type_class', hue='status_group', stat='percent', multiple=\"dodge\")"
   ]
  },
  {
   "cell_type": "code",
   "execution_count": 20,
   "metadata": {
    "collapsed": false
   },
   "outputs": [],
   "source": [
    "# sns.histplot(data=df.loc[(df['num_private']>0) & (df['num_private']<100)], x='num_private', hue='status_group', stat='percent', multiple=\"dodge\")"
   ]
  },
  {
   "cell_type": "code",
   "execution_count": 21,
   "metadata": {
    "collapsed": false
   },
   "outputs": [],
   "source": [
    "# adapted from https://stackoverflow.com/questions/34615854/seaborn-countplot-with-normalized-y-axis-per-group\n",
    "# (df.loc[df['num_private']<10]\n",
    "# .groupby('num_private')['status_group']\n",
    "# .value_counts(normalize=True)\n",
    "# .mul(100)\n",
    "# .rename('percent')\n",
    "# .reset_index()\n",
    "# .pipe((sns.catplot,'data'), x='num_private',y='percent',hue='status_group',kind='bar'))"
   ]
  },
  {
   "cell_type": "code",
   "execution_count": 22,
   "metadata": {
    "collapsed": false
   },
   "outputs": [],
   "source": []
  },
  {
   "cell_type": "code",
   "execution_count": 23,
   "metadata": {
    "collapsed": false
   },
   "outputs": [],
   "source": [
    "# sns.histplot(data=df, x='region', y='status_group', cbar=True) # distribution/histogram of region vs status_group using the count in each bin - will need to redo the region codes and use these instead of the region column"
   ]
  },
  {
   "cell_type": "code",
   "execution_count": 24,
   "metadata": {},
   "outputs": [],
   "source": [
    "# from sklearn.impute import KNNImputer\n",
    "# imputer = KNNImputer(n_neighbors=19287)\n",
    "# dummies = pd.get_dummies(df['subvillage']).add_prefix('subvillage'+\": \").iloc[:,:-1]\n",
    "# df = pd.concat([df, dummies], axis=1) # leave last dummy to avoid DV trap\n",
    "# vars = list(dummies) + ['longitude', 'latitude', 'gps_height']\n",
    "# imputer.fit_transform(df[vars])"
   ]
  },
  {
   "cell_type": "code",
   "execution_count": 27,
   "metadata": {
    "collapsed": false
   },
   "outputs": [],
   "source": [
    "# sns.boxplot(data=df.loc[(df['amount_tsh']>0) & (df['amount_tsh']<500)], x='amount_tsh')\n",
    "# df.loc[(df['amount_tsh']>0) & (df['amount_tsh']<500)]"
   ]
  },
  {
   "cell_type": "code",
   "execution_count": 28,
   "metadata": {
    "collapsed": false
   },
   "outputs": [],
   "source": [
    "# df.loc[(df['amount_tsh']>0) & (df['amount_tsh']<400), 'amount_tsh'].quantile(np.linspace(.1, 1, 18, 0))"
   ]
  },
  {
   "cell_type": "code",
   "execution_count": 29,
   "metadata": {},
   "outputs": [],
   "source": [
    "# Outliers\n",
    "# sns.boxplot(data=df.loc[df['amount_tsh']>10000], x='status_group', y='amount_tsh')\n",
    "# sns.violinplot(data=df, x='status_group', y='amount_tsh') # so there is a correlation between broken/amount_tsh"
   ]
  },
  {
   "cell_type": "code",
   "execution_count": 200,
   "metadata": {
    "collapsed": false
   },
   "outputs": [
    {
     "data": {
      "text/plain": [
       "<Axes: xlabel='status_group', ylabel='population'>"
      ]
     },
     "execution_count": 200,
     "metadata": {},
     "output_type": "execute_result"
    },
    {
     "data": {
      "image/png": "[encoded data removed]",
      "text/plain": [
       "<Figure size 432x288 with 1 Axes>"
      ]
     },
     "metadata": {
      "needs_background": "light"
     },
     "output_type": "display_data"
    }
   ],
   "source": [
    "sns.violinplot(data=training.df.loc[training.df['population']<600], x='status_group', y='population')\n",
    "# df.loc[df['population']<600, 'population'].describe()\n",
    "# df.loc[df['status_group']=='non functional']"
   ]
  },
  {
   "cell_type": "code",
   "execution_count": 31,
   "metadata": {
    "collapsed": false
   },
   "outputs": [
    {
     "data": {
      "text/plain": [
       "<Axes: xlabel='amount_tsh', ylabel='waterpoint_type_group'>"
      ]
     },
     "execution_count": 31,
     "metadata": {},
     "output_type": "execute_result"
    },
    {
     "data": {
      "image/png": "[encoded data removed]",
      "text/plain": [
       "<Figure size 432x288 with 1 Axes>"
      ]
     },
     "metadata": {
      "needs_background": "light"
     },
     "output_type": "display_data"
    }
   ],
   "source": [
    "sns.boxplot(data=training.df, x='amount_tsh', y='waterpoint_type_group')"
   ]
  },
  {
   "cell_type": "code",
   "execution_count": 32,
   "metadata": {
    "collapsed": false
   },
   "outputs": [
    {
     "data": {
      "text/plain": [
       "region       ward           \n",
       "tabora       sungwisi             1\n",
       "kigoma       machinjioni          1\n",
       "mara         nyamtinga            1\n",
       "morogoro     uwanja wa ndege      1\n",
       "mtwara       majengo              1\n",
       "                               ... \n",
       "arusha       nduruma            205\n",
       "iringa       mdandu             231\n",
       "kilimanjaro  siha kati          232\n",
       "iringa       imalinyi           252\n",
       "             igosi              307\n",
       "Name: NaNs, Length: 2173, dtype: int64"
      ]
     },
     "execution_count": 32,
     "metadata": {},
     "output_type": "execute_result"
    },
    {
     "data": {
      "image/png": "[encoded data removed]",
      "text/plain": [
       "<Figure size 432x288 with 1 Axes>"
      ]
     },
     "metadata": {
      "needs_background": "light"
     },
     "output_type": "display_data"
    }
   ],
   "source": [
    "# sns.histplot(data=df, x='age')\n",
    "sns.histplot(data=training.df.loc[training.df['population']>10000], x='population')\n",
    "# plt.savefig('Output/dep_var.png', dpi=1200)\n",
    "training.df.loc[training.df['population']>10000, ['population', 'longitude', 'latitude', 'region', 'subvillage', 'ward']]\n",
    "# df['population'].quantile(np.linspace(.1, 1, 99, 0))\n",
    "subdf = training.df.loc[training.df['ward']=='masuguru', ['longitude', 'latitude', 'region', 'ward', 'subvillage', 'population']].sort_values(by=['region', 'ward', 'subvillage']) # impute with the region and ward average!!\n",
    "# df.columns\n",
    "# sum(subdf.loc[subdf['population']<25000,'population'])/len(subdf.loc[subdf['population']<25000,'population'])\n",
    "# subdf\n",
    "training.df.groupby(['region','ward']).count().sort_values('NaNs')['NaNs']"
   ]
  },
  {
   "cell_type": "code",
   "execution_count": 33,
   "metadata": {
    "collapsed": false
   },
   "outputs": [],
   "source": [
    "# sns.kdeplot(data=df.loc[df['amount_tsh']<10000], x='amount_tsh', fill=True)"
   ]
  },
  {
   "cell_type": "code",
   "execution_count": 127,
   "metadata": {
    "collapsed": false
   },
   "outputs": [
    {
     "name": "stderr",
     "output_type": "stream",
     "text": [
      "\n",
      "KeyboardInterrupt\n",
      "\n"
     ]
    },
    {
     "name": "stdout",
     "output_type": "stream",
     "text": [
      "Error in callback <function flush_figures at 0x000001E79110AEE0> (for post_execute):\n"
     ]
    },
    {
     "name": "stderr",
     "output_type": "stream",
     "text": [
      "\n",
      "KeyboardInterrupt\n",
      "\n"
     ]
    }
   ],
   "source": [
    "# sns.histplot(data=df.loc[df['amount_tsh']>0], x='amount_tsh', bins=10)\n",
    "sns.pairplot(data=training.df, hue='status_group')"
   ]
  },
  {
   "cell_type": "code",
   "execution_count": 35,
   "metadata": {},
   "outputs": [
    {
     "data": {
      "text/html": [
       "<div>\n",
       "<style scoped>\n",
       "    .dataframe tbody tr th:only-of-type {\n",
       "        vertical-align: middle;\n",
       "    }\n",
       "\n",
       "    .dataframe tbody tr th {\n",
       "        vertical-align: top;\n",
       "    }\n",
       "\n",
       "    .dataframe thead th {\n",
       "        text-align: right;\n",
       "    }\n",
       "</style>\n",
       "<table border=\"1\" class=\"dataframe\">\n",
       "  <thead>\n",
       "    <tr style=\"text-align: right;\">\n",
       "      <th></th>\n",
       "      <th>amount_tsh</th>\n",
       "      <th>gps_height</th>\n",
       "      <th>longitude</th>\n",
       "      <th>latitude</th>\n",
       "      <th>population</th>\n",
       "      <th>age</th>\n",
       "      <th>status_group_encoding</th>\n",
       "      <th>NaNs</th>\n",
       "    </tr>\n",
       "  </thead>\n",
       "  <tbody>\n",
       "    <tr>\n",
       "      <th>amount_tsh</th>\n",
       "      <td>1.000000</td>\n",
       "      <td>0.068761</td>\n",
       "      <td>-0.168865</td>\n",
       "      <td>-0.154301</td>\n",
       "      <td>0.003255</td>\n",
       "      <td>0.057333</td>\n",
       "      <td>0.052160</td>\n",
       "      <td>-0.276369</td>\n",
       "    </tr>\n",
       "    <tr>\n",
       "      <th>gps_height</th>\n",
       "      <td>0.068761</td>\n",
       "      <td>1.000000</td>\n",
       "      <td>-0.569910</td>\n",
       "      <td>0.281220</td>\n",
       "      <td>-0.039622</td>\n",
       "      <td>0.021225</td>\n",
       "      <td>0.152932</td>\n",
       "      <td>0.222164</td>\n",
       "    </tr>\n",
       "    <tr>\n",
       "      <th>longitude</th>\n",
       "      <td>-0.168865</td>\n",
       "      <td>-0.569910</td>\n",
       "      <td>1.000000</td>\n",
       "      <td>-0.308643</td>\n",
       "      <td>-0.097411</td>\n",
       "      <td>-0.035284</td>\n",
       "      <td>-0.005425</td>\n",
       "      <td>-0.482353</td>\n",
       "    </tr>\n",
       "    <tr>\n",
       "      <th>latitude</th>\n",
       "      <td>-0.154301</td>\n",
       "      <td>0.281220</td>\n",
       "      <td>-0.308643</td>\n",
       "      <td>1.000000</td>\n",
       "      <td>0.047701</td>\n",
       "      <td>-0.016951</td>\n",
       "      <td>0.015397</td>\n",
       "      <td>0.212746</td>\n",
       "    </tr>\n",
       "    <tr>\n",
       "      <th>population</th>\n",
       "      <td>0.003255</td>\n",
       "      <td>-0.039622</td>\n",
       "      <td>-0.097411</td>\n",
       "      <td>0.047701</td>\n",
       "      <td>1.000000</td>\n",
       "      <td>-0.028382</td>\n",
       "      <td>0.016776</td>\n",
       "      <td>-0.018691</td>\n",
       "    </tr>\n",
       "    <tr>\n",
       "      <th>age</th>\n",
       "      <td>0.057333</td>\n",
       "      <td>0.021225</td>\n",
       "      <td>-0.035284</td>\n",
       "      <td>-0.016951</td>\n",
       "      <td>-0.028382</td>\n",
       "      <td>1.000000</td>\n",
       "      <td>-0.291744</td>\n",
       "      <td>0.118777</td>\n",
       "    </tr>\n",
       "    <tr>\n",
       "      <th>status_group_encoding</th>\n",
       "      <td>0.052160</td>\n",
       "      <td>0.152932</td>\n",
       "      <td>-0.005425</td>\n",
       "      <td>0.015397</td>\n",
       "      <td>0.016776</td>\n",
       "      <td>-0.291744</td>\n",
       "      <td>1.000000</td>\n",
       "      <td>-0.051532</td>\n",
       "    </tr>\n",
       "    <tr>\n",
       "      <th>NaNs</th>\n",
       "      <td>-0.276369</td>\n",
       "      <td>0.222164</td>\n",
       "      <td>-0.482353</td>\n",
       "      <td>0.212746</td>\n",
       "      <td>-0.018691</td>\n",
       "      <td>0.118777</td>\n",
       "      <td>-0.051532</td>\n",
       "      <td>1.000000</td>\n",
       "    </tr>\n",
       "  </tbody>\n",
       "</table>\n",
       "</div>"
      ],
      "text/plain": [
       "                       amount_tsh  gps_height  longitude  latitude  \\\n",
       "amount_tsh               1.000000    0.068761  -0.168865 -0.154301   \n",
       "gps_height               0.068761    1.000000  -0.569910  0.281220   \n",
       "longitude               -0.168865   -0.569910   1.000000 -0.308643   \n",
       "latitude                -0.154301    0.281220  -0.308643  1.000000   \n",
       "population               0.003255   -0.039622  -0.097411  0.047701   \n",
       "age                      0.057333    0.021225  -0.035284 -0.016951   \n",
       "status_group_encoding    0.052160    0.152932  -0.005425  0.015397   \n",
       "NaNs                    -0.276369    0.222164  -0.482353  0.212746   \n",
       "\n",
       "                       population       age  status_group_encoding      NaNs  \n",
       "amount_tsh               0.003255  0.057333               0.052160 -0.276369  \n",
       "gps_height              -0.039622  0.021225               0.152932  0.222164  \n",
       "longitude               -0.097411 -0.035284              -0.005425 -0.482353  \n",
       "latitude                 0.047701 -0.016951               0.015397  0.212746  \n",
       "population               1.000000 -0.028382               0.016776 -0.018691  \n",
       "age                     -0.028382  1.000000              -0.291744  0.118777  \n",
       "status_group_encoding    0.016776 -0.291744               1.000000 -0.051532  \n",
       "NaNs                    -0.018691  0.118777              -0.051532  1.000000  "
      ]
     },
     "execution_count": 35,
     "metadata": {},
     "output_type": "execute_result"
    }
   ],
   "source": [
    "# Correlation between the variables\n",
    "training.df.corr()"
   ]
  },
  {
   "cell_type": "code",
   "execution_count": 206,
   "metadata": {},
   "outputs": [
    {
     "data": {
      "text/plain": [
       "<Axes: >"
      ]
     },
     "execution_count": 206,
     "metadata": {},
     "output_type": "execute_result"
    },
    {
     "data": {
      "image/png": "[encoded data removed]",
      "text/plain": [
       "<Figure size 1080x1080 with 2 Axes>"
      ]
     },
     "metadata": {
      "needs_background": "light"
     },
     "output_type": "display_data"
    }
   ],
   "source": [
    "# Let's turn this correlation into a heatmap\n",
    "plt.figure(figsize=(10,10))\n",
    "sns.heatmap(training.df.corr(), cmap=sns.cubehelix_palette(as_cmap=True), annot=True) # , mask = (np.abs(df.corr() ) >= 0.5)"
   ]
  },
  {
   "cell_type": "code",
   "execution_count": 37,
   "metadata": {},
   "outputs": [],
   "source": [
    "# sns.set(style=\"ticks\", color_codes=True)\n",
    "# sns.pairplot(df.select_dtypes(include=np.number))"
   ]
  },
  {
   "cell_type": "markdown",
   "metadata": {
    "collapsed": false
   },
   "source": [
    "JB's work"
   ]
  },
  {
   "cell_type": "code",
   "execution_count": 204,
   "metadata": {
    "collapsed": false
   },
   "outputs": [
    {
     "name": "stderr",
     "output_type": "stream",
     "text": [
      "C:\\Users\\point\\anaconda3\\lib\\site-packages\\pyproj\\crs\\crs.py:141: FutureWarning: '+init=<authority>:<code>' syntax is deprecated. '<authority>:<code>' is the preferred initialization method. When making the change, be mindful of axis order changes: https://pyproj4.github.io/pyproj/stable/gotchas.html#axis-order-changes-in-proj-6\n",
      "  in_crs_string = _prepare_from_proj_string(in_crs_string)\n"
     ]
    },
    {
     "data": {
      "image/png": "[encoded data removed]",
      "text/plain": [
       "<Figure size 432x288 with 2 Axes>"
      ]
     },
     "metadata": {
      "needs_background": "light"
     },
     "output_type": "display_data"
    }
   ],
   "source": [
    "training.get_geo_graphic()"
   ]
  },
  {
   "cell_type": "code",
   "execution_count": 217,
   "metadata": {
    "collapsed": false
   },
   "outputs": [
    {
     "ename": "ValueError",
     "evalue": "Input contains NaN, infinity or a value too large for dtype('float64').",
     "output_type": "error",
     "traceback": [
      "\u001b[1;31m---------------------------------------------------------------------------\u001b[0m",
      "\u001b[1;31mValueError\u001b[0m                                Traceback (most recent call last)",
      "Input \u001b[1;32mIn [217]\u001b[0m, in \u001b[0;36m<cell line: 7>\u001b[1;34m()\u001b[0m\n\u001b[0;32m      5\u001b[0m pointon_x \u001b[38;5;241m=\u001b[39m pointon\u001b[38;5;241m.\u001b[39mdf\u001b[38;5;241m.\u001b[39mloc[:,pointon\u001b[38;5;241m.\u001b[39mdf\u001b[38;5;241m.\u001b[39mcolumns \u001b[38;5;241m!=\u001b[39m \u001b[38;5;124m'\u001b[39m\u001b[38;5;124mstatus_group_encoding\u001b[39m\u001b[38;5;124m'\u001b[39m]\n\u001b[0;32m      6\u001b[0m pointon_y \u001b[38;5;241m=\u001b[39m pointon\u001b[38;5;241m.\u001b[39mdf[\u001b[38;5;124m'\u001b[39m\u001b[38;5;124mstatus_group_encoding\u001b[39m\u001b[38;5;124m'\u001b[39m]\n\u001b[1;32m----> 7\u001b[0m \u001b[43mmodel\u001b[49m\u001b[38;5;241;43m.\u001b[39;49m\u001b[43mfit\u001b[49m\u001b[43m(\u001b[49m\u001b[43mX\u001b[49m\u001b[43m \u001b[49m\u001b[38;5;241;43m=\u001b[39;49m\u001b[43m \u001b[49m\u001b[43mpointon_x\u001b[49m\u001b[43m,\u001b[49m\u001b[43m \u001b[49m\u001b[43my\u001b[49m\u001b[43m \u001b[49m\u001b[38;5;241;43m=\u001b[39;49m\u001b[43m \u001b[49m\u001b[43mpointon_y\u001b[49m\u001b[43m)\u001b[49m\n\u001b[0;32m      9\u001b[0m predicted_values \u001b[38;5;241m=\u001b[39m pd\u001b[38;5;241m.\u001b[39mDataFrame(model\u001b[38;5;241m.\u001b[39mpredict(pointon_x), index\u001b[38;5;241m=\u001b[39mpointon_x\u001b[38;5;241m.\u001b[39mindex, columns\u001b[38;5;241m=\u001b[39m[\u001b[38;5;124m'\u001b[39m\u001b[38;5;124mprediction\u001b[39m\u001b[38;5;124m'\u001b[39m])\n\u001b[0;32m     10\u001b[0m pointon\u001b[38;5;241m.\u001b[39mdf \u001b[38;5;241m=\u001b[39m pointon\u001b[38;5;241m.\u001b[39mdf\u001b[38;5;241m.\u001b[39mjoin(predicted_values)\n",
      "File \u001b[1;32m~\\anaconda3\\lib\\site-packages\\sklearn\\linear_model\\_logistic.py:1508\u001b[0m, in \u001b[0;36mLogisticRegression.fit\u001b[1;34m(self, X, y, sample_weight)\u001b[0m\n\u001b[0;32m   1505\u001b[0m \u001b[38;5;28;01melse\u001b[39;00m:\n\u001b[0;32m   1506\u001b[0m     _dtype \u001b[38;5;241m=\u001b[39m [np\u001b[38;5;241m.\u001b[39mfloat64, np\u001b[38;5;241m.\u001b[39mfloat32]\n\u001b[1;32m-> 1508\u001b[0m X, y \u001b[38;5;241m=\u001b[39m \u001b[38;5;28;43mself\u001b[39;49m\u001b[38;5;241;43m.\u001b[39;49m\u001b[43m_validate_data\u001b[49m\u001b[43m(\u001b[49m\n\u001b[0;32m   1509\u001b[0m \u001b[43m    \u001b[49m\u001b[43mX\u001b[49m\u001b[43m,\u001b[49m\n\u001b[0;32m   1510\u001b[0m \u001b[43m    \u001b[49m\u001b[43my\u001b[49m\u001b[43m,\u001b[49m\n\u001b[0;32m   1511\u001b[0m \u001b[43m    \u001b[49m\u001b[43maccept_sparse\u001b[49m\u001b[38;5;241;43m=\u001b[39;49m\u001b[38;5;124;43m\"\u001b[39;49m\u001b[38;5;124;43mcsr\u001b[39;49m\u001b[38;5;124;43m\"\u001b[39;49m\u001b[43m,\u001b[49m\n\u001b[0;32m   1512\u001b[0m \u001b[43m    \u001b[49m\u001b[43mdtype\u001b[49m\u001b[38;5;241;43m=\u001b[39;49m\u001b[43m_dtype\u001b[49m\u001b[43m,\u001b[49m\n\u001b[0;32m   1513\u001b[0m \u001b[43m    \u001b[49m\u001b[43morder\u001b[49m\u001b[38;5;241;43m=\u001b[39;49m\u001b[38;5;124;43m\"\u001b[39;49m\u001b[38;5;124;43mC\u001b[39;49m\u001b[38;5;124;43m\"\u001b[39;49m\u001b[43m,\u001b[49m\n\u001b[0;32m   1514\u001b[0m \u001b[43m    \u001b[49m\u001b[43maccept_large_sparse\u001b[49m\u001b[38;5;241;43m=\u001b[39;49m\u001b[43msolver\u001b[49m\u001b[43m \u001b[49m\u001b[38;5;129;43;01mnot\u001b[39;49;00m\u001b[43m \u001b[49m\u001b[38;5;129;43;01min\u001b[39;49;00m\u001b[43m \u001b[49m\u001b[43m[\u001b[49m\u001b[38;5;124;43m\"\u001b[39;49m\u001b[38;5;124;43mliblinear\u001b[39;49m\u001b[38;5;124;43m\"\u001b[39;49m\u001b[43m,\u001b[49m\u001b[43m \u001b[49m\u001b[38;5;124;43m\"\u001b[39;49m\u001b[38;5;124;43msag\u001b[39;49m\u001b[38;5;124;43m\"\u001b[39;49m\u001b[43m,\u001b[49m\u001b[43m \u001b[49m\u001b[38;5;124;43m\"\u001b[39;49m\u001b[38;5;124;43msaga\u001b[39;49m\u001b[38;5;124;43m\"\u001b[39;49m\u001b[43m]\u001b[49m\u001b[43m,\u001b[49m\n\u001b[0;32m   1515\u001b[0m \u001b[43m\u001b[49m\u001b[43m)\u001b[49m\n\u001b[0;32m   1516\u001b[0m check_classification_targets(y)\n\u001b[0;32m   1517\u001b[0m \u001b[38;5;28mself\u001b[39m\u001b[38;5;241m.\u001b[39mclasses_ \u001b[38;5;241m=\u001b[39m np\u001b[38;5;241m.\u001b[39munique(y)\n",
      "File \u001b[1;32m~\\anaconda3\\lib\\site-packages\\sklearn\\base.py:581\u001b[0m, in \u001b[0;36mBaseEstimator._validate_data\u001b[1;34m(self, X, y, reset, validate_separately, **check_params)\u001b[0m\n\u001b[0;32m    579\u001b[0m         y \u001b[38;5;241m=\u001b[39m check_array(y, \u001b[38;5;241m*\u001b[39m\u001b[38;5;241m*\u001b[39mcheck_y_params)\n\u001b[0;32m    580\u001b[0m     \u001b[38;5;28;01melse\u001b[39;00m:\n\u001b[1;32m--> 581\u001b[0m         X, y \u001b[38;5;241m=\u001b[39m check_X_y(X, y, \u001b[38;5;241m*\u001b[39m\u001b[38;5;241m*\u001b[39mcheck_params)\n\u001b[0;32m    582\u001b[0m     out \u001b[38;5;241m=\u001b[39m X, y\n\u001b[0;32m    584\u001b[0m \u001b[38;5;28;01mif\u001b[39;00m \u001b[38;5;129;01mnot\u001b[39;00m no_val_X \u001b[38;5;129;01mand\u001b[39;00m check_params\u001b[38;5;241m.\u001b[39mget(\u001b[38;5;124m\"\u001b[39m\u001b[38;5;124mensure_2d\u001b[39m\u001b[38;5;124m\"\u001b[39m, \u001b[38;5;28;01mTrue\u001b[39;00m):\n",
      "File \u001b[1;32m~\\anaconda3\\lib\\site-packages\\sklearn\\utils\\validation.py:964\u001b[0m, in \u001b[0;36mcheck_X_y\u001b[1;34m(X, y, accept_sparse, accept_large_sparse, dtype, order, copy, force_all_finite, ensure_2d, allow_nd, multi_output, ensure_min_samples, ensure_min_features, y_numeric, estimator)\u001b[0m\n\u001b[0;32m    961\u001b[0m \u001b[38;5;28;01mif\u001b[39;00m y \u001b[38;5;129;01mis\u001b[39;00m \u001b[38;5;28;01mNone\u001b[39;00m:\n\u001b[0;32m    962\u001b[0m     \u001b[38;5;28;01mraise\u001b[39;00m \u001b[38;5;167;01mValueError\u001b[39;00m(\u001b[38;5;124m\"\u001b[39m\u001b[38;5;124my cannot be None\u001b[39m\u001b[38;5;124m\"\u001b[39m)\n\u001b[1;32m--> 964\u001b[0m X \u001b[38;5;241m=\u001b[39m \u001b[43mcheck_array\u001b[49m\u001b[43m(\u001b[49m\n\u001b[0;32m    965\u001b[0m \u001b[43m    \u001b[49m\u001b[43mX\u001b[49m\u001b[43m,\u001b[49m\n\u001b[0;32m    966\u001b[0m \u001b[43m    \u001b[49m\u001b[43maccept_sparse\u001b[49m\u001b[38;5;241;43m=\u001b[39;49m\u001b[43maccept_sparse\u001b[49m\u001b[43m,\u001b[49m\n\u001b[0;32m    967\u001b[0m \u001b[43m    \u001b[49m\u001b[43maccept_large_sparse\u001b[49m\u001b[38;5;241;43m=\u001b[39;49m\u001b[43maccept_large_sparse\u001b[49m\u001b[43m,\u001b[49m\n\u001b[0;32m    968\u001b[0m \u001b[43m    \u001b[49m\u001b[43mdtype\u001b[49m\u001b[38;5;241;43m=\u001b[39;49m\u001b[43mdtype\u001b[49m\u001b[43m,\u001b[49m\n\u001b[0;32m    969\u001b[0m \u001b[43m    \u001b[49m\u001b[43morder\u001b[49m\u001b[38;5;241;43m=\u001b[39;49m\u001b[43morder\u001b[49m\u001b[43m,\u001b[49m\n\u001b[0;32m    970\u001b[0m \u001b[43m    \u001b[49m\u001b[43mcopy\u001b[49m\u001b[38;5;241;43m=\u001b[39;49m\u001b[43mcopy\u001b[49m\u001b[43m,\u001b[49m\n\u001b[0;32m    971\u001b[0m \u001b[43m    \u001b[49m\u001b[43mforce_all_finite\u001b[49m\u001b[38;5;241;43m=\u001b[39;49m\u001b[43mforce_all_finite\u001b[49m\u001b[43m,\u001b[49m\n\u001b[0;32m    972\u001b[0m \u001b[43m    \u001b[49m\u001b[43mensure_2d\u001b[49m\u001b[38;5;241;43m=\u001b[39;49m\u001b[43mensure_2d\u001b[49m\u001b[43m,\u001b[49m\n\u001b[0;32m    973\u001b[0m \u001b[43m    \u001b[49m\u001b[43mallow_nd\u001b[49m\u001b[38;5;241;43m=\u001b[39;49m\u001b[43mallow_nd\u001b[49m\u001b[43m,\u001b[49m\n\u001b[0;32m    974\u001b[0m \u001b[43m    \u001b[49m\u001b[43mensure_min_samples\u001b[49m\u001b[38;5;241;43m=\u001b[39;49m\u001b[43mensure_min_samples\u001b[49m\u001b[43m,\u001b[49m\n\u001b[0;32m    975\u001b[0m \u001b[43m    \u001b[49m\u001b[43mensure_min_features\u001b[49m\u001b[38;5;241;43m=\u001b[39;49m\u001b[43mensure_min_features\u001b[49m\u001b[43m,\u001b[49m\n\u001b[0;32m    976\u001b[0m \u001b[43m    \u001b[49m\u001b[43mestimator\u001b[49m\u001b[38;5;241;43m=\u001b[39;49m\u001b[43mestimator\u001b[49m\u001b[43m,\u001b[49m\n\u001b[0;32m    977\u001b[0m \u001b[43m\u001b[49m\u001b[43m)\u001b[49m\n\u001b[0;32m    979\u001b[0m y \u001b[38;5;241m=\u001b[39m _check_y(y, multi_output\u001b[38;5;241m=\u001b[39mmulti_output, y_numeric\u001b[38;5;241m=\u001b[39my_numeric)\n\u001b[0;32m    981\u001b[0m check_consistent_length(X, y)\n",
      "File \u001b[1;32m~\\anaconda3\\lib\\site-packages\\sklearn\\utils\\validation.py:800\u001b[0m, in \u001b[0;36mcheck_array\u001b[1;34m(array, accept_sparse, accept_large_sparse, dtype, order, copy, force_all_finite, ensure_2d, allow_nd, ensure_min_samples, ensure_min_features, estimator)\u001b[0m\n\u001b[0;32m    794\u001b[0m         \u001b[38;5;28;01mraise\u001b[39;00m \u001b[38;5;167;01mValueError\u001b[39;00m(\n\u001b[0;32m    795\u001b[0m             \u001b[38;5;124m\"\u001b[39m\u001b[38;5;124mFound array with dim \u001b[39m\u001b[38;5;132;01m%d\u001b[39;00m\u001b[38;5;124m. \u001b[39m\u001b[38;5;132;01m%s\u001b[39;00m\u001b[38;5;124m expected <= 2.\u001b[39m\u001b[38;5;124m\"\u001b[39m\n\u001b[0;32m    796\u001b[0m             \u001b[38;5;241m%\u001b[39m (array\u001b[38;5;241m.\u001b[39mndim, estimator_name)\n\u001b[0;32m    797\u001b[0m         )\n\u001b[0;32m    799\u001b[0m     \u001b[38;5;28;01mif\u001b[39;00m force_all_finite:\n\u001b[1;32m--> 800\u001b[0m         \u001b[43m_assert_all_finite\u001b[49m\u001b[43m(\u001b[49m\u001b[43marray\u001b[49m\u001b[43m,\u001b[49m\u001b[43m \u001b[49m\u001b[43mallow_nan\u001b[49m\u001b[38;5;241;43m=\u001b[39;49m\u001b[43mforce_all_finite\u001b[49m\u001b[43m \u001b[49m\u001b[38;5;241;43m==\u001b[39;49m\u001b[43m \u001b[49m\u001b[38;5;124;43m\"\u001b[39;49m\u001b[38;5;124;43mallow-nan\u001b[39;49m\u001b[38;5;124;43m\"\u001b[39;49m\u001b[43m)\u001b[49m\n\u001b[0;32m    802\u001b[0m \u001b[38;5;28;01mif\u001b[39;00m ensure_min_samples \u001b[38;5;241m>\u001b[39m \u001b[38;5;241m0\u001b[39m:\n\u001b[0;32m    803\u001b[0m     n_samples \u001b[38;5;241m=\u001b[39m _num_samples(array)\n",
      "File \u001b[1;32m~\\anaconda3\\lib\\site-packages\\sklearn\\utils\\validation.py:114\u001b[0m, in \u001b[0;36m_assert_all_finite\u001b[1;34m(X, allow_nan, msg_dtype)\u001b[0m\n\u001b[0;32m    107\u001b[0m     \u001b[38;5;28;01mif\u001b[39;00m (\n\u001b[0;32m    108\u001b[0m         allow_nan\n\u001b[0;32m    109\u001b[0m         \u001b[38;5;129;01mand\u001b[39;00m np\u001b[38;5;241m.\u001b[39misinf(X)\u001b[38;5;241m.\u001b[39many()\n\u001b[0;32m    110\u001b[0m         \u001b[38;5;129;01mor\u001b[39;00m \u001b[38;5;129;01mnot\u001b[39;00m allow_nan\n\u001b[0;32m    111\u001b[0m         \u001b[38;5;129;01mand\u001b[39;00m \u001b[38;5;129;01mnot\u001b[39;00m np\u001b[38;5;241m.\u001b[39misfinite(X)\u001b[38;5;241m.\u001b[39mall()\n\u001b[0;32m    112\u001b[0m     ):\n\u001b[0;32m    113\u001b[0m         type_err \u001b[38;5;241m=\u001b[39m \u001b[38;5;124m\"\u001b[39m\u001b[38;5;124minfinity\u001b[39m\u001b[38;5;124m\"\u001b[39m \u001b[38;5;28;01mif\u001b[39;00m allow_nan \u001b[38;5;28;01melse\u001b[39;00m \u001b[38;5;124m\"\u001b[39m\u001b[38;5;124mNaN, infinity\u001b[39m\u001b[38;5;124m\"\u001b[39m\n\u001b[1;32m--> 114\u001b[0m         \u001b[38;5;28;01mraise\u001b[39;00m \u001b[38;5;167;01mValueError\u001b[39;00m(\n\u001b[0;32m    115\u001b[0m             msg_err\u001b[38;5;241m.\u001b[39mformat(\n\u001b[0;32m    116\u001b[0m                 type_err, msg_dtype \u001b[38;5;28;01mif\u001b[39;00m msg_dtype \u001b[38;5;129;01mis\u001b[39;00m \u001b[38;5;129;01mnot\u001b[39;00m \u001b[38;5;28;01mNone\u001b[39;00m \u001b[38;5;28;01melse\u001b[39;00m X\u001b[38;5;241m.\u001b[39mdtype\n\u001b[0;32m    117\u001b[0m             )\n\u001b[0;32m    118\u001b[0m         )\n\u001b[0;32m    119\u001b[0m \u001b[38;5;66;03m# for object dtype data, we only check for NaNs (GH-13254)\u001b[39;00m\n\u001b[0;32m    120\u001b[0m \u001b[38;5;28;01melif\u001b[39;00m X\u001b[38;5;241m.\u001b[39mdtype \u001b[38;5;241m==\u001b[39m np\u001b[38;5;241m.\u001b[39mdtype(\u001b[38;5;124m\"\u001b[39m\u001b[38;5;124mobject\u001b[39m\u001b[38;5;124m\"\u001b[39m) \u001b[38;5;129;01mand\u001b[39;00m \u001b[38;5;129;01mnot\u001b[39;00m allow_nan:\n",
      "\u001b[1;31mValueError\u001b[0m: Input contains NaN, infinity or a value too large for dtype('float64')."
     ]
    }
   ],
   "source": [
    "# JP's analysis\n",
    "pointon = copy.deepcopy(training)\n",
    "# define the multinomial logistic regression model\n",
    "model = linear_model.LogisticRegression(multi_class='multinomial', solver='lbfgs')\n",
    "pointon_x = pointon.df.loc[:,pointon.df.columns != 'status_group_encoding']\n",
    "pointon_y = pointon.df['status_group_encoding']\n",
    "model.fit(X = pointon_x, y = pointon_y)\n",
    "\n",
    "predicted_values = pd.DataFrame(model.predict(pointon_x), index=pointon_x.index, columns=['prediction'])\n",
    "pointon.df = pointon.df.join(predicted_values)\n",
    "pointon.df['Accurate prediction'] = np.where(pointon.df['status_group_encoding']==pointon.df['prediction'], 1, 0)\n",
    "\n",
    "# summarize the predicted class\n",
    "print('Prediction Accuracy: %d' % pointon['Accurate prediction'].mean())"
   ]
  },
  {
   "cell_type": "code",
   "execution_count": 47,
   "metadata": {
    "collapsed": false
   },
   "outputs": [],
   "source": [
    "# probit model\n",
    "# import statsmodels.api as smf\n",
    "# probit_model=smf.Probit(y,X)\n",
    "# result=probit_model.fit()\n",
    "# print(result.summary2())"
   ]
  },
  {
   "cell_type": "code",
   "execution_count": 218,
   "metadata": {
    "collapsed": false
   },
   "outputs": [
    {
     "data": {
      "image/png": "[encoded data removed]",
      "text/plain": [
       "<Figure size 432x288 with 1 Axes>"
      ]
     },
     "metadata": {
      "needs_background": "light"
     },
     "output_type": "display_data"
    }
   ],
   "source": [
    "pca = PCA().fit(pointon.df.dropna())\n",
    "plt.plot(np.cumsum(pca.explained_variance_ratio_))\n",
    "plt.xlabel('number of components')\n",
    "plt.ylabel('cumulative explained variance');"
   ]
  },
  {
   "cell_type": "code",
   "execution_count": 225,
   "metadata": {
    "collapsed": false
   },
   "outputs": [
    {
     "data": {
      "text/plain": [
       "41"
      ]
     },
     "execution_count": 225,
     "metadata": {},
     "output_type": "execute_result"
    }
   ],
   "source": [
    "pca = PCA(0.95).fit(pointon.df.dropna())\n",
    "pca.n_components_"
   ]
  },
  {
   "cell_type": "code",
   "execution_count": 146,
   "metadata": {
    "collapsed": false
   },
   "outputs": [
    {
     "name": "stdout",
     "output_type": "stream",
     "text": [
      "[2.45232608 1.55117358]\n"
     ]
    },
    {
     "data": {
      "text/plain": [
       "array([[-0.22099343, -1.07549907],\n",
       "       [ 0.22836442,  2.04594757],\n",
       "       [ 1.74592172, -0.53561159],\n",
       "       ...,\n",
       "       [ 0.64079041, -2.11352072],\n",
       "       [-1.95363224,  0.25185421],\n",
       "       [ 0.65782794, -2.03414563]])"
      ]
     },
     "execution_count": 146,
     "metadata": {},
     "output_type": "execute_result"
    }
   ],
   "source": [
    "# exclude cols with too many (or only 1) categories\n",
    "pca = PCA(n_components=2)\n",
    "pca.fit(pointon_x.dropna())\n",
    "print(pca.explained_variance_)\n",
    "X_pca = pca.transform(pointon_x.dropna())\n",
    "X_pca"
   ]
  },
  {
   "cell_type": "code",
   "execution_count": 149,
   "metadata": {
    "collapsed": false
   },
   "outputs": [
    {
     "data": {
      "image/png": "[encoded data removed]",
      "text/plain": [
       "<Figure size 432x288 with 1 Axes>"
      ]
     },
     "metadata": {
      "needs_background": "light"
     },
     "output_type": "display_data"
    }
   ],
   "source": [
    "from sklearn.cluster import KMeans\n",
    "Kmean = KMeans(n_clusters=3)\n",
    "Kmean.fit(X_pca)\n",
    "plt.scatter(X_pca[ : , 0], X_pca[ : , 1], s =50, c=Kmean.labels_.astype(float))\n",
    "# plt.scatter(-0.94665068, -0.97138368, s=200, c='g', marker=’s’)\n",
    "# plt.scatter(2.01559419, 2.02597093, s=200, c=’r’, marker=’s’)\n",
    "plt.show()"
   ]
  },
  {
   "cell_type": "code",
   "execution_count": 237,
   "metadata": {
    "collapsed": false
   },
   "outputs": [],
   "source": [
    "# from sklearn.cross_decomposition import PLSRegression\n",
    "# pls = PLSRegression(n_components=1) # multi_class='multinomial', solver='lbfgs'"
   ]
  },
  {
   "cell_type": "code",
   "execution_count": 235,
   "metadata": {
    "collapsed": false
   },
   "outputs": [
    {
     "data": {
      "text/html": [
       "<div>\n",
       "<style scoped>\n",
       "    .dataframe tbody tr th:only-of-type {\n",
       "        vertical-align: middle;\n",
       "    }\n",
       "\n",
       "    .dataframe tbody tr th {\n",
       "        vertical-align: top;\n",
       "    }\n",
       "\n",
       "    .dataframe thead th {\n",
       "        text-align: right;\n",
       "    }\n",
       "</style>\n",
       "<table border=\"1\" class=\"dataframe\">\n",
       "  <thead>\n",
       "    <tr style=\"text-align: right;\">\n",
       "      <th></th>\n",
       "      <th>amount_tsh</th>\n",
       "      <th>gps_height</th>\n",
       "      <th>longitude</th>\n",
       "      <th>latitude</th>\n",
       "      <th>population</th>\n",
       "      <th>age</th>\n",
       "      <th>status_group_encoding</th>\n",
       "      <th>NaNs</th>\n",
       "    </tr>\n",
       "  </thead>\n",
       "  <tbody>\n",
       "    <tr>\n",
       "      <th>count</th>\n",
       "      <td>12885.000000</td>\n",
       "      <td>38916.000000</td>\n",
       "      <td>59149.000000</td>\n",
       "      <td>59149.000000</td>\n",
       "      <td>37973.000000</td>\n",
       "      <td>38648.000000</td>\n",
       "      <td>59149.000000</td>\n",
       "      <td>59149.000000</td>\n",
       "    </tr>\n",
       "    <tr>\n",
       "      <th>mean</th>\n",
       "      <td>66.543489</td>\n",
       "      <td>1021.246659</td>\n",
       "      <td>35.106556</td>\n",
       "      <td>-5.802805</td>\n",
       "      <td>281.218234</td>\n",
       "      <td>15.354067</td>\n",
       "      <td>1.158921</td>\n",
       "      <td>1.889482</td>\n",
       "    </tr>\n",
       "    <tr>\n",
       "      <th>std</th>\n",
       "      <td>88.665822</td>\n",
       "      <td>609.806565</td>\n",
       "      <td>2.586687</td>\n",
       "      <td>2.816635</td>\n",
       "      <td>564.993112</td>\n",
       "      <td>12.487614</td>\n",
       "      <td>0.949796</td>\n",
       "      <td>1.647714</td>\n",
       "    </tr>\n",
       "    <tr>\n",
       "      <th>min</th>\n",
       "      <td>0.000000</td>\n",
       "      <td>1.000000</td>\n",
       "      <td>29.607122</td>\n",
       "      <td>-11.649440</td>\n",
       "      <td>1.000000</td>\n",
       "      <td>0.000000</td>\n",
       "      <td>0.000000</td>\n",
       "      <td>0.000000</td>\n",
       "    </tr>\n",
       "    <tr>\n",
       "      <th>25%</th>\n",
       "      <td>5.000000</td>\n",
       "      <td>394.000000</td>\n",
       "      <td>33.280764</td>\n",
       "      <td>-8.555373</td>\n",
       "      <td>40.000000</td>\n",
       "      <td>5.000000</td>\n",
       "      <td>0.000000</td>\n",
       "      <td>1.000000</td>\n",
       "    </tr>\n",
       "    <tr>\n",
       "      <th>50%</th>\n",
       "      <td>30.000000</td>\n",
       "      <td>1167.500000</td>\n",
       "      <td>34.926411</td>\n",
       "      <td>-5.043410</td>\n",
       "      <td>150.000000</td>\n",
       "      <td>13.000000</td>\n",
       "      <td>2.000000</td>\n",
       "      <td>1.000000</td>\n",
       "    </tr>\n",
       "    <tr>\n",
       "      <th>75%</th>\n",
       "      <td>100.000000</td>\n",
       "      <td>1499.000000</td>\n",
       "      <td>37.180494</td>\n",
       "      <td>-3.333518</td>\n",
       "      <td>324.000000</td>\n",
       "      <td>25.000000</td>\n",
       "      <td>2.000000</td>\n",
       "      <td>4.000000</td>\n",
       "    </tr>\n",
       "    <tr>\n",
       "      <th>max</th>\n",
       "      <td>400.000000</td>\n",
       "      <td>2770.000000</td>\n",
       "      <td>40.345193</td>\n",
       "      <td>-0.998464</td>\n",
       "      <td>30500.000000</td>\n",
       "      <td>53.000000</td>\n",
       "      <td>2.000000</td>\n",
       "      <td>6.000000</td>\n",
       "    </tr>\n",
       "  </tbody>\n",
       "</table>\n",
       "</div>"
      ],
      "text/plain": [
       "         amount_tsh    gps_height     longitude      latitude    population  \\\n",
       "count  12885.000000  38916.000000  59149.000000  59149.000000  37973.000000   \n",
       "mean      66.543489   1021.246659     35.106556     -5.802805    281.218234   \n",
       "std       88.665822    609.806565      2.586687      2.816635    564.993112   \n",
       "min        0.000000      1.000000     29.607122    -11.649440      1.000000   \n",
       "25%        5.000000    394.000000     33.280764     -8.555373     40.000000   \n",
       "50%       30.000000   1167.500000     34.926411     -5.043410    150.000000   \n",
       "75%      100.000000   1499.000000     37.180494     -3.333518    324.000000   \n",
       "max      400.000000   2770.000000     40.345193     -0.998464  30500.000000   \n",
       "\n",
       "                age  status_group_encoding          NaNs  \n",
       "count  38648.000000           59149.000000  59149.000000  \n",
       "mean      15.354067               1.158921      1.889482  \n",
       "std       12.487614               0.949796      1.647714  \n",
       "min        0.000000               0.000000      0.000000  \n",
       "25%        5.000000               0.000000      1.000000  \n",
       "50%       13.000000               2.000000      1.000000  \n",
       "75%       25.000000               2.000000      4.000000  \n",
       "max       53.000000               2.000000      6.000000  "
      ]
     },
     "execution_count": 235,
     "metadata": {},
     "output_type": "execute_result"
    }
   ],
   "source": [
    "training.df.describe()"
   ]
  },
  {
   "cell_type": "code",
   "execution_count": 266,
   "metadata": {
    "collapsed": false
   },
   "outputs": [
    {
     "ename": "RasterioIOError",
     "evalue": "af_dem_3_3.tif: No such file or directory",
     "output_type": "error",
     "traceback": [
      "\u001b[1;31m---------------------------------------------------------------------------\u001b[0m",
      "\u001b[1;31mKeyError\u001b[0m                                  Traceback (most recent call last)",
      "File \u001b[1;32m~\\anaconda3\\lib\\site-packages\\xarray\\backends\\file_manager.py:199\u001b[0m, in \u001b[0;36mCachingFileManager._acquire_with_cache_info\u001b[1;34m(self, needs_lock)\u001b[0m\n\u001b[0;32m    198\u001b[0m \u001b[38;5;28;01mtry\u001b[39;00m:\n\u001b[1;32m--> 199\u001b[0m     file \u001b[38;5;241m=\u001b[39m \u001b[38;5;28;43mself\u001b[39;49m\u001b[38;5;241;43m.\u001b[39;49m\u001b[43m_cache\u001b[49m\u001b[43m[\u001b[49m\u001b[38;5;28;43mself\u001b[39;49m\u001b[38;5;241;43m.\u001b[39;49m\u001b[43m_key\u001b[49m\u001b[43m]\u001b[49m\n\u001b[0;32m    200\u001b[0m \u001b[38;5;28;01mexcept\u001b[39;00m \u001b[38;5;167;01mKeyError\u001b[39;00m:\n",
      "File \u001b[1;32m~\\anaconda3\\lib\\site-packages\\xarray\\backends\\lru_cache.py:53\u001b[0m, in \u001b[0;36mLRUCache.__getitem__\u001b[1;34m(self, key)\u001b[0m\n\u001b[0;32m     52\u001b[0m \u001b[38;5;28;01mwith\u001b[39;00m \u001b[38;5;28mself\u001b[39m\u001b[38;5;241m.\u001b[39m_lock:\n\u001b[1;32m---> 53\u001b[0m     value \u001b[38;5;241m=\u001b[39m \u001b[38;5;28;43mself\u001b[39;49m\u001b[38;5;241;43m.\u001b[39;49m\u001b[43m_cache\u001b[49m\u001b[43m[\u001b[49m\u001b[43mkey\u001b[49m\u001b[43m]\u001b[49m\n\u001b[0;32m     54\u001b[0m     \u001b[38;5;28mself\u001b[39m\u001b[38;5;241m.\u001b[39m_cache\u001b[38;5;241m.\u001b[39mmove_to_end(key)\n",
      "\u001b[1;31mKeyError\u001b[0m: [<function open at 0x000001E846E78D30>, ('af_dem_3_3.tif',), 'r', (('sharing', False),)]",
      "\nDuring handling of the above exception, another exception occurred:\n",
      "\u001b[1;31mCPLE_OpenFailedError\u001b[0m                      Traceback (most recent call last)",
      "File \u001b[1;32mrasterio\\_base.pyx:308\u001b[0m, in \u001b[0;36mrasterio._base.DatasetBase.__init__\u001b[1;34m()\u001b[0m\n",
      "File \u001b[1;32mrasterio\\_base.pyx:219\u001b[0m, in \u001b[0;36mrasterio._base.open_dataset\u001b[1;34m()\u001b[0m\n",
      "File \u001b[1;32mrasterio\\_err.pyx:221\u001b[0m, in \u001b[0;36mrasterio._err.exc_wrap_pointer\u001b[1;34m()\u001b[0m\n",
      "\u001b[1;31mCPLE_OpenFailedError\u001b[0m: af_dem_3_3.tif: No such file or directory",
      "\nDuring handling of the above exception, another exception occurred:\n",
      "\u001b[1;31mRasterioIOError\u001b[0m                           Traceback (most recent call last)",
      "Input \u001b[1;32mIn [266]\u001b[0m, in \u001b[0;36m<cell line: 3>\u001b[1;34m()\u001b[0m\n\u001b[0;32m      1\u001b[0m \u001b[38;5;28;01mimport\u001b[39;00m \u001b[38;5;21;01mrioxarray\u001b[39;00m  \u001b[38;5;28;01mas\u001b[39;00m \u001b[38;5;21;01mrxr\u001b[39;00m\n\u001b[1;32m----> 3\u001b[0m dataarray \u001b[38;5;241m=\u001b[39m \u001b[43mrxr\u001b[49m\u001b[38;5;241;43m.\u001b[39;49m\u001b[43mopen_rasterio\u001b[49m\u001b[43m(\u001b[49m\u001b[38;5;124;43m'\u001b[39;49m\u001b[38;5;124;43maf_dem_3_3.tif\u001b[39;49m\u001b[38;5;124;43m'\u001b[39;49m\u001b[43m)\u001b[49m\n\u001b[0;32m      5\u001b[0m df \u001b[38;5;241m=\u001b[39m dataarray[\u001b[38;5;241m0\u001b[39m]\u001b[38;5;241m.\u001b[39mto_pandas()\n",
      "File \u001b[1;32m~\\anaconda3\\lib\\site-packages\\rioxarray\\_io.py:1087\u001b[0m, in \u001b[0;36mopen_rasterio\u001b[1;34m(filename, parse_coordinates, chunks, cache, lock, masked, mask_and_scale, variable, group, default_name, decode_times, decode_timedelta, band_as_variable, **open_kwargs)\u001b[0m\n\u001b[0;32m   1085\u001b[0m     \u001b[38;5;28;01melse\u001b[39;00m:\n\u001b[0;32m   1086\u001b[0m         manager \u001b[38;5;241m=\u001b[39m URIManager(file_opener, filename, mode\u001b[38;5;241m=\u001b[39m\u001b[38;5;124m\"\u001b[39m\u001b[38;5;124mr\u001b[39m\u001b[38;5;124m\"\u001b[39m, kwargs\u001b[38;5;241m=\u001b[39mopen_kwargs)\n\u001b[1;32m-> 1087\u001b[0m     riods \u001b[38;5;241m=\u001b[39m \u001b[43mmanager\u001b[49m\u001b[38;5;241;43m.\u001b[39;49m\u001b[43macquire\u001b[49m\u001b[43m(\u001b[49m\u001b[43m)\u001b[49m\n\u001b[0;32m   1088\u001b[0m     captured_warnings \u001b[38;5;241m=\u001b[39m rio_warnings\u001b[38;5;241m.\u001b[39mcopy()\n\u001b[0;32m   1090\u001b[0m \u001b[38;5;28;01mif\u001b[39;00m band_as_variable:\n",
      "File \u001b[1;32m~\\anaconda3\\lib\\site-packages\\xarray\\backends\\file_manager.py:181\u001b[0m, in \u001b[0;36mCachingFileManager.acquire\u001b[1;34m(self, needs_lock)\u001b[0m\n\u001b[0;32m    166\u001b[0m \u001b[38;5;28;01mdef\u001b[39;00m \u001b[38;5;21macquire\u001b[39m(\u001b[38;5;28mself\u001b[39m, needs_lock\u001b[38;5;241m=\u001b[39m\u001b[38;5;28;01mTrue\u001b[39;00m):\n\u001b[0;32m    167\u001b[0m     \u001b[38;5;124;03m\"\"\"Acquire a file object from the manager.\u001b[39;00m\n\u001b[0;32m    168\u001b[0m \n\u001b[0;32m    169\u001b[0m \u001b[38;5;124;03m    A new file is only opened if it has expired from the\u001b[39;00m\n\u001b[1;32m   (...)\u001b[0m\n\u001b[0;32m    179\u001b[0m \u001b[38;5;124;03m        An open file object, as returned by ``opener(*args, **kwargs)``.\u001b[39;00m\n\u001b[0;32m    180\u001b[0m \u001b[38;5;124;03m    \"\"\"\u001b[39;00m\n\u001b[1;32m--> 181\u001b[0m     file, _ \u001b[38;5;241m=\u001b[39m \u001b[38;5;28;43mself\u001b[39;49m\u001b[38;5;241;43m.\u001b[39;49m\u001b[43m_acquire_with_cache_info\u001b[49m\u001b[43m(\u001b[49m\u001b[43mneeds_lock\u001b[49m\u001b[43m)\u001b[49m\n\u001b[0;32m    182\u001b[0m     \u001b[38;5;28;01mreturn\u001b[39;00m file\n",
      "File \u001b[1;32m~\\anaconda3\\lib\\site-packages\\xarray\\backends\\file_manager.py:205\u001b[0m, in \u001b[0;36mCachingFileManager._acquire_with_cache_info\u001b[1;34m(self, needs_lock)\u001b[0m\n\u001b[0;32m    203\u001b[0m     kwargs \u001b[38;5;241m=\u001b[39m kwargs\u001b[38;5;241m.\u001b[39mcopy()\n\u001b[0;32m    204\u001b[0m     kwargs[\u001b[38;5;124m\"\u001b[39m\u001b[38;5;124mmode\u001b[39m\u001b[38;5;124m\"\u001b[39m] \u001b[38;5;241m=\u001b[39m \u001b[38;5;28mself\u001b[39m\u001b[38;5;241m.\u001b[39m_mode\n\u001b[1;32m--> 205\u001b[0m file \u001b[38;5;241m=\u001b[39m \u001b[38;5;28mself\u001b[39m\u001b[38;5;241m.\u001b[39m_opener(\u001b[38;5;241m*\u001b[39m\u001b[38;5;28mself\u001b[39m\u001b[38;5;241m.\u001b[39m_args, \u001b[38;5;241m*\u001b[39m\u001b[38;5;241m*\u001b[39mkwargs)\n\u001b[0;32m    206\u001b[0m \u001b[38;5;28;01mif\u001b[39;00m \u001b[38;5;28mself\u001b[39m\u001b[38;5;241m.\u001b[39m_mode \u001b[38;5;241m==\u001b[39m \u001b[38;5;124m\"\u001b[39m\u001b[38;5;124mw\u001b[39m\u001b[38;5;124m\"\u001b[39m:\n\u001b[0;32m    207\u001b[0m     \u001b[38;5;66;03m# ensure file doesn't get overriden when opened again\u001b[39;00m\n\u001b[0;32m    208\u001b[0m     \u001b[38;5;28mself\u001b[39m\u001b[38;5;241m.\u001b[39m_mode \u001b[38;5;241m=\u001b[39m \u001b[38;5;124m\"\u001b[39m\u001b[38;5;124ma\u001b[39m\u001b[38;5;124m\"\u001b[39m\n",
      "File \u001b[1;32m~\\anaconda3\\lib\\site-packages\\rasterio\\env.py:451\u001b[0m, in \u001b[0;36mensure_env_with_credentials.<locals>.wrapper\u001b[1;34m(*args, **kwds)\u001b[0m\n\u001b[0;32m    448\u001b[0m     session \u001b[38;5;241m=\u001b[39m DummySession()\n\u001b[0;32m    450\u001b[0m \u001b[38;5;28;01mwith\u001b[39;00m env_ctor(session\u001b[38;5;241m=\u001b[39msession):\n\u001b[1;32m--> 451\u001b[0m     \u001b[38;5;28;01mreturn\u001b[39;00m f(\u001b[38;5;241m*\u001b[39margs, \u001b[38;5;241m*\u001b[39m\u001b[38;5;241m*\u001b[39mkwds)\n",
      "File \u001b[1;32m~\\anaconda3\\lib\\site-packages\\rasterio\\__init__.py:334\u001b[0m, in \u001b[0;36mopen\u001b[1;34m(fp, mode, driver, width, height, count, crs, transform, dtype, nodata, sharing, **kwargs)\u001b[0m\n\u001b[0;32m    331\u001b[0m path \u001b[38;5;241m=\u001b[39m _parse_path(raw_dataset_path)\n\u001b[0;32m    333\u001b[0m \u001b[38;5;28;01mif\u001b[39;00m mode \u001b[38;5;241m==\u001b[39m \u001b[38;5;124m\"\u001b[39m\u001b[38;5;124mr\u001b[39m\u001b[38;5;124m\"\u001b[39m:\n\u001b[1;32m--> 334\u001b[0m     dataset \u001b[38;5;241m=\u001b[39m DatasetReader(path, driver\u001b[38;5;241m=\u001b[39mdriver, sharing\u001b[38;5;241m=\u001b[39msharing, \u001b[38;5;241m*\u001b[39m\u001b[38;5;241m*\u001b[39mkwargs)\n\u001b[0;32m    335\u001b[0m \u001b[38;5;28;01melif\u001b[39;00m mode \u001b[38;5;241m==\u001b[39m \u001b[38;5;124m\"\u001b[39m\u001b[38;5;124mr+\u001b[39m\u001b[38;5;124m\"\u001b[39m:\n\u001b[0;32m    336\u001b[0m     dataset \u001b[38;5;241m=\u001b[39m get_writer_for_path(path, driver\u001b[38;5;241m=\u001b[39mdriver)(\n\u001b[0;32m    337\u001b[0m         path, mode, driver\u001b[38;5;241m=\u001b[39mdriver, sharing\u001b[38;5;241m=\u001b[39msharing, \u001b[38;5;241m*\u001b[39m\u001b[38;5;241m*\u001b[39mkwargs\n\u001b[0;32m    338\u001b[0m     )\n",
      "File \u001b[1;32mrasterio\\_base.pyx:310\u001b[0m, in \u001b[0;36mrasterio._base.DatasetBase.__init__\u001b[1;34m()\u001b[0m\n",
      "\u001b[1;31mRasterioIOError\u001b[0m: af_dem_3_3.tif: No such file or directory"
     ]
    }
   ],
   "source": [
    "# import rioxarray  as rxr\n",
    "#\n",
    "# dataarray = rxr.open_rasterio('af_dem_3_3.tif')\n",
    "#\n",
    "# df = dataarray[0].to_pandas()"
   ]
  }
 ],
 "metadata": {
  "kernelspec": {
   "display_name": "Python 3 (ipykernel)",
   "language": "python",
   "name": "python3"
  },
  "language_info": {
   "codemirror_mode": {
    "name": "ipython",
    "version": 3
   },
   "file_extension": ".py",
   "mimetype": "text/x-python",
   "name": "python",
   "nbconvert_exporter": "python",
   "pygments_lexer": "ipython3",
   "version": "3.10.6"
  }
 },
 "nbformat": 4,
 "nbformat_minor": 1
}
